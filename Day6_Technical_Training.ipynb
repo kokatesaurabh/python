{
 "cells": [
  {
   "cell_type": "code",
   "execution_count": 5,
   "id": "0357e4a4-08d3-4c80-b707-c1e705943f5c",
   "metadata": {},
   "outputs": [
    {
     "name": "stdin",
     "output_type": "stream",
     "text": [
      "Enter File Name:  myfile.txt\n"
     ]
    },
    {
     "name": "stdout",
     "output_type": "stream",
     "text": [
      "File Exists:  myfile.txt\n",
      "The content of file is:\n"
     ]
    },
    {
     "ename": "NameError",
     "evalue": "name 'f' is not defined",
     "output_type": "error",
     "traceback": [
      "\u001b[1;31m---------------------------------------------------------------------------\u001b[0m",
      "\u001b[1;31mNameError\u001b[0m                                 Traceback (most recent call last)",
      "Cell \u001b[1;32mIn[5], line 10\u001b[0m\n\u001b[0;32m      8\u001b[0m     sys\u001b[38;5;241m.\u001b[39mexit(\u001b[38;5;241m0\u001b[39m)\n\u001b[0;32m      9\u001b[0m \u001b[38;5;28mprint\u001b[39m(\u001b[38;5;124m\"\u001b[39m\u001b[38;5;124mThe content of file is:\u001b[39m\u001b[38;5;124m\"\u001b[39m)\n\u001b[1;32m---> 10\u001b[0m data \u001b[38;5;241m=\u001b[39m \u001b[43mf\u001b[49m\u001b[38;5;241m.\u001b[39mread()\n\u001b[0;32m     11\u001b[0m \u001b[38;5;28mprint\u001b[39m(data)\n",
      "\u001b[1;31mNameError\u001b[0m: name 'f' is not defined"
     ]
    }
   ],
   "source": [
    "import os, sys\n",
    "\n",
    "fname = input(\"Enter File Name: \")\n",
    "if os.path.isfile(fname):\n",
    "    print(\"File Exists: \", fname)\n",
    "else:\n",
    "    print(\"File does not exist: \", fname)\n",
    "    sys.exit(0)\n",
    "print(\"The content of file is:\")\n",
    "data = f.read()\n",
    "print(data)"
   ]
  },
  {
   "cell_type": "code",
   "execution_count": 4,
   "id": "743a067e-83c1-46b6-a01e-e43d5f3e1b56",
   "metadata": {},
   "outputs": [
    {
     "name": "stdin",
     "output_type": "stream",
     "text": [
      "Salary :  60000\n",
      "Rating :  5\n"
     ]
    },
    {
     "name": "stdout",
     "output_type": "stream",
     "text": [
      "Incremented Salary:  84000.0\n"
     ]
    }
   ],
   "source": [
    "salary = int(input(\"Salary : \"))\n",
    "rating = float(input(\"Rating : \"))\n",
    "increment = 0\n",
    "\n",
    "if rating >= 1 and rating <= 3:\n",
    "    increment = salary*10/100\n",
    "elif rating >= 3.1 and rating <= 4:\n",
    "    increment = salary*30/100\n",
    "elif rating >= 4.1 and rating <= 5:\n",
    "    increment = salary*40/100\n",
    "else:\n",
    "    print(\"Invalid Increment\")\n",
    "\n",
    "print('Incremented Salary: ', increment + salary)"
   ]
  },
  {
   "cell_type": "code",
   "execution_count": 15,
   "id": "746e2484-3bb8-4000-95d7-39507c6d9a64",
   "metadata": {},
   "outputs": [
    {
     "name": "stdin",
     "output_type": "stream",
     "text": [
      "Enter cases:  4 \n",
      " 1 10\n",
      " 1 15\n",
      " 2 10\n",
      " 2 15\n"
     ]
    },
    {
     "name": "stdout",
     "output_type": "stream",
     "text": [
      "10\n",
      "15\n",
      "20\n",
      "30\n"
     ]
    }
   ],
   "source": [
    "n = int(input(\"Enter cases: \"))\n",
    "lst = []\n",
    "for i in range(0, n):\n",
    "    x, y = map(int, input().split())\n",
    "    op = x * y\n",
    "    lst.append(op)\n",
    "for i in lst:\n",
    "    print(i)"
   ]
  },
  {
   "cell_type": "code",
   "execution_count": 26,
   "id": "7144a05f-2316-4e62-932b-bee69207aac9",
   "metadata": {},
   "outputs": [
    {
     "name": "stdin",
     "output_type": "stream",
     "text": [
      " 5\n",
      " 1\n",
      " 3\n",
      " 3\n",
      " 4\n",
      " 5\n"
     ]
    },
    {
     "name": "stdout",
     "output_type": "stream",
     "text": [
      "1\n",
      "3\n",
      "4\n",
      "5\n"
     ]
    }
   ],
   "source": [
    "n = int(input())\n",
    "lst = []\n",
    "\n",
    "for i in range(0, n):\n",
    "    b = int(input())\n",
    "    if b not in lst:\n",
    "        lst.append(b)\n",
    "\n",
    "lst.sort()\n",
    "for i in lst:\n",
    "    print(i)"
   ]
  },
  {
   "cell_type": "code",
   "execution_count": 29,
   "id": "b62cee59-f618-47f6-b265-e1a4369a234a",
   "metadata": {},
   "outputs": [
    {
     "name": "stdin",
     "output_type": "stream",
     "text": [
      " 3\n",
      " 2 5 2\n"
     ]
    },
    {
     "name": "stdout",
     "output_type": "stream",
     "text": [
      "NO\n"
     ]
    },
    {
     "name": "stdin",
     "output_type": "stream",
     "text": [
      " 4 2 2\n"
     ]
    },
    {
     "name": "stdout",
     "output_type": "stream",
     "text": [
      "YES\n"
     ]
    },
    {
     "name": "stdin",
     "output_type": "stream",
     "text": [
      " 3 5 5\n"
     ]
    },
    {
     "name": "stdout",
     "output_type": "stream",
     "text": [
      "NO\n"
     ]
    }
   ],
   "source": [
    "n = int(input())\n",
    "\n",
    "for i in range(0, n):\n",
    "    x, y, z = map(int, input().split())\n",
    "    if x+y == z or y+z ==  x or x+z == y:\n",
    "        print(\"YES\")\n",
    "    else:\n",
    "        print(\"NO\")"
   ]
  },
  {
   "cell_type": "markdown",
   "id": "33af20fa-7a26-4207-8b73-af8ef4cca8ba",
   "metadata": {},
   "source": [
    "# Abstraction\n",
    "A class which contains one or more abstract methods is called an abstract.<br>\n",
    "An abstract method is a method that has a declaration but does not have implementation."
   ]
  },
  {
   "cell_type": "code",
   "execution_count": 31,
   "id": "5ae0018f-47e4-42e4-aa98-f36565e6cb73",
   "metadata": {},
   "outputs": [
    {
     "name": "stdout",
     "output_type": "stream",
     "text": [
      "C, JAVA, C++\n",
      "JAVA Placement\n",
      "Python , Django\n",
      "Python Placement\n",
      "JAVA, Python, Flutter\n",
      "Android Development Placement\n"
     ]
    }
   ],
   "source": [
    "from abc import ABC, abstractmethod\n",
    "class HelpedCode(ABC):\n",
    "    @abstractmethod\n",
    "    def training(self):\n",
    "        pass\n",
    "\n",
    "    @abstractmethod\n",
    "    def placement(self):\n",
    "        pass\n",
    "\n",
    "class Ashish(HelpedCode):\n",
    "    def training(self):\n",
    "        print(\"C, JAVA, C++\")\n",
    "\n",
    "    def placement(self):\n",
    "        print(\"JAVA Placement\")\n",
    "\n",
    "class Ankush(HelpedCode):\n",
    "    def training(Self):\n",
    "        print(\"Python , Django\")\n",
    "\n",
    "    def placement(self):\n",
    "        print(\"Python Placement\")\n",
    "\n",
    "class Manish(HelpedCode):\n",
    "    def training(self):\n",
    "        print(\"JAVA, Python, Flutter\")\n",
    "\n",
    "    def placement(self):\n",
    "        print(\"Android Development Placement\")\n",
    "\n",
    "obj1 = Ashish()\n",
    "obj1.training()\n",
    "obj1.placement()\n",
    "\n",
    "obj2 = Ankush()\n",
    "obj2.training()\n",
    "obj2.placement()\n",
    "\n",
    "obj3 = Manish()\n",
    "obj3.training()\n",
    "obj3.placement()\n",
    "    "
   ]
  },
  {
   "cell_type": "code",
   "execution_count": 33,
   "id": "344bb94b-86c9-45a6-a04e-460382b46ab3",
   "metadata": {},
   "outputs": [
    {
     "name": "stdout",
     "output_type": "stream",
     "text": [
      "#############################################\n",
      "        Welcome To Make My Trip              \n"
     ]
    },
    {
     "name": "stdin",
     "output_type": "stream",
     "text": [
      "Enter source station:  jfkl a\n",
      "Enter destination station:  fldj\n",
      "Enter date d\n"
     ]
    },
    {
     "name": "stdout",
     "output_type": "stream",
     "text": [
      "############################################\n",
      "#############################################\n",
      "          Welcome To GoIbibo                 \n"
     ]
    },
    {
     "name": "stdin",
     "output_type": "stream",
     "text": [
      "Enter source station:  d\n",
      "Enter destination station:  d\n",
      "Enter date d\n"
     ]
    },
    {
     "name": "stdout",
     "output_type": "stream",
     "text": [
      "############################################\n",
      "#############################################\n",
      "           Welcome To Yatra                  \n"
     ]
    },
    {
     "name": "stdin",
     "output_type": "stream",
     "text": [
      "Enter source station:  d\n",
      "Enter destination station:  d\n",
      "Enter date d\n"
     ]
    },
    {
     "name": "stdout",
     "output_type": "stream",
     "text": [
      "############################################\n"
     ]
    }
   ],
   "source": [
    "from abc import ABC, abstractmethod\n",
    "\n",
    "class IRCTC(ABC):\n",
    "\n",
    "    @abstractmethod\n",
    "    def bookTicket(self):\n",
    "        pass\n",
    "\n",
    "class MakeMyTrip(IRCTC):\n",
    "    def bookTicket(self):\n",
    "        print(\"#############################################\")\n",
    "        print(\"        Welcome To Make My Trip              \")\n",
    "        source = input(\"Enter source station: \")\n",
    "        destination = input(\"Enter destination station: \")\n",
    "        date = input(\"Enter date\")\n",
    "        print(\"############################################\")\n",
    "    \n",
    "\n",
    "class GoIbibo(IRCTC):\n",
    "    def bookTicket(self):\n",
    "        print(\"#############################################\")\n",
    "        print(\"          Welcome To GoIbibo                 \")\n",
    "        source = input(\"Enter source station: \")\n",
    "        destination = input(\"Enter destination station: \")\n",
    "        date = input(\"Enter date\")\n",
    "        print(\"############################################\")\n",
    "\n",
    "class Yatra(IRCTC):\n",
    "    def bookTicket(self):\n",
    "        print(\"#############################################\")\n",
    "        print(\"           Welcome To Yatra                  \")\n",
    "        source = input(\"Enter source station: \")\n",
    "        destination = input(\"Enter destination station: \")\n",
    "        date = input(\"Enter date\")\n",
    "        print(\"############################################\")\n",
    "\n",
    "obj1 = MakeMyTrip()\n",
    "obj1.bookTicket()\n",
    "\n",
    "obj2 = GoIbibo()\n",
    "obj2.bookTicket()\n",
    "\n",
    "obj3 = Yatra()\n",
    "obj3.bookTicket()"
   ]
  },
  {
   "cell_type": "markdown",
   "id": "7325e0b6-65c1-4923-8fa2-af99c40b44f7",
   "metadata": {},
   "source": [
    "# Encapsulation\n",
    "Encapsulation is a process of pretecting the dat of functionality in a single unit. <br>\n",
    "This mechanism is often used to protect the data of and object from other objects"
   ]
  },
  {
   "cell_type": "code",
   "execution_count": 45,
   "id": "9f838000-178a-44c4-992c-55c7cc5b179e",
   "metadata": {},
   "outputs": [
    {
     "name": "stdout",
     "output_type": "stream",
     "text": [
      "Parent class constructor called\n",
      "Calling private member of Base class\n",
      "MMB\n",
      "Parent class constructor called\n",
      "MMB\n"
     ]
    }
   ],
   "source": [
    "class Base:\n",
    "    def __init__(self):\n",
    "        print(\"Parent class constructor called\")\n",
    "        self.a = \"Manish\"  #Public member\n",
    "        self.__c =\"Budar\"  #Private Member\n",
    "        self._d = \"MMB\" # Protected Member\n",
    "\n",
    "    # def show(self):\n",
    "    #     print(self.__c)\n",
    "\n",
    "class Derived(Base):\n",
    "    def __init__(self):\n",
    "        Base.__init__(self)\n",
    "        print(\"Calling private member of Base class\")\n",
    "        print(self._d)\n",
    "        # print(self.a)\n",
    "        # print(self.__c)\n",
    "\n",
    "obj = Derived()\n",
    "# print(obj.a)\n",
    "# print(obj.__c)\n",
    "# print(obj.show())\n",
    "# print(obj.self_d)\n",
    "\n",
    "obj1 = Base()\n",
    "print(obj1._d)\n",
    "# print(obj1.__c)"
   ]
  },
  {
   "cell_type": "code",
   "execution_count": 55,
   "id": "4afabe7d-ec03-481e-8a4a-7389b5e870ee",
   "metadata": {},
   "outputs": [
    {
     "name": "stdout",
     "output_type": "stream",
     "text": [
      "\n",
      "Inside child class\n",
      "Public Policies\n",
      "Protected Policies\n",
      "Public Policies\n",
      "Public Policies\n",
      "Protected Policies\n"
     ]
    }
   ],
   "source": [
    "class Rbi:\n",
    "    def publicPolicy(self):\n",
    "        print(\"Public Policies\")\n",
    "\n",
    "    def __privatePolicy(self):   #Private method\n",
    "        print(\"Private Policies\")\n",
    "\n",
    "    def _protectedPolicy(self):   #Protected method\n",
    "        print(\"Protected Policies\")\n",
    "\n",
    "class Sbi(Rbi):\n",
    "    def __init__(self):\n",
    "        Rbi.__init__(self)\n",
    "\n",
    "    def callingPublicMethod(self):\n",
    "        print(\"\\nInside child class\")\n",
    "        self.publicPolicy()\n",
    "\n",
    "    def callingPrivateMethod(self):\n",
    "        self.__privatePolicy()\n",
    "\n",
    "    def calingProtectedMethod(self):\n",
    "        self._protectedPolicy()\n",
    "\n",
    "obj = Sbi()\n",
    "\n",
    "obj.callingPublicMethod()\n",
    "# obj.callingPrivateMethod()\n",
    "obj.calingProtectedMethod()\n",
    "\n",
    "obj.publicPolicy()\n",
    "# obj.__privatePolicy()\n",
    "obj._protectedPolicy\n",
    "\n",
    "obj2 = Rbi()\n",
    "obj2.publicPolicy()\n",
    "# obj2.__privatePolicy()\n",
    "obj2._protectedPolicy()"
   ]
  },
  {
   "cell_type": "code",
   "execution_count": 60,
   "id": "d1f2db56-4ab3-4a16-9d0c-424874a25480",
   "metadata": {},
   "outputs": [
    {
     "name": "stdin",
     "output_type": "stream",
     "text": [
      " 5\n",
      " 10\n",
      " 11\n",
      " 12\n",
      " 23\n",
      " 14\n"
     ]
    },
    {
     "name": "stdout",
     "output_type": "stream",
     "text": [
      "22\n"
     ]
    }
   ],
   "source": [
    "n = int(input())\n",
    "lst= []\n",
    "distance = 0\n",
    "for i in range(0, n):\n",
    "    a = int(input())\n",
    "    lst.append(a)\n",
    "\n",
    "for i in range(0, len(lst)-1):\n",
    "    if i+1 in range(len(lst)):\n",
    "        distance += abs(lst[i] - lst[i+1])\n",
    "\n",
    "print(distance)"
   ]
  },
  {
   "cell_type": "code",
   "execution_count": 70,
   "id": "89bbd494-a96b-41c8-a140-b52b86389a90",
   "metadata": {},
   "outputs": [
    {
     "name": "stdin",
     "output_type": "stream",
     "text": [
      " madfh@#$%fjdf@$$\n"
     ]
    },
    {
     "name": "stdout",
     "output_type": "stream",
     "text": [
      "@#$%@$$"
     ]
    }
   ],
   "source": [
    "import string\n",
    "text = input()\n",
    "p = string.punctuation\n",
    "for i in range(0, len(text)):\n",
    "    if text[i] in p:\n",
    "        print(text[i], end=\"\")"
   ]
  },
  {
   "cell_type": "code",
   "execution_count": 9,
   "id": "f343d70b-c1ed-4e93-a86a-357bcf2776c6",
   "metadata": {},
   "outputs": [
    {
     "name": "stdout",
     "output_type": "stream",
     "text": [
      "****prashantisagoodprogrammer\n"
     ]
    }
   ],
   "source": [
    "text = \"prashant*is*a*good*programmer\"\n",
    "newtext = \"\"\n",
    "consonent = \"\"\n",
    "\n",
    "for i in text:\n",
    "    if i != \"*\":\n",
    "        newtext += i\n",
    "    else:\n",
    "        consonent += i\n",
    "\n",
    "print(consonent+newtext)"
   ]
  },
  {
   "cell_type": "code",
   "execution_count": 26,
   "id": "02a1d279-18c6-4d20-9667-544597ce1f43",
   "metadata": {},
   "outputs": [
    {
     "name": "stdout",
     "output_type": "stream",
     "text": [
      "1  5\n",
      "2  4\n",
      "4  2\n",
      "5  1\n"
     ]
    }
   ],
   "source": [
    "for i in range(1, 6):\n",
    "    if i != 3:\n",
    "        print(i, \"\", 6 - i)"
   ]
  },
  {
   "cell_type": "code",
   "execution_count": 28,
   "id": "e3069c87-2e9b-4702-94a9-dd6ff79ed158",
   "metadata": {},
   "outputs": [
    {
     "name": "stdout",
     "output_type": "stream",
     "text": [
      "1  5\n",
      "2  4\n",
      "4  2\n",
      "5  1\n"
     ]
    }
   ],
   "source": [
    "for i, j in zip(range(1, 6), range(5, 0, -1)):   # zip function store multiple range functions\n",
    "    if i != j:\n",
    "        print(i, '', j)"
   ]
  },
  {
   "cell_type": "code",
   "execution_count": 39,
   "id": "a29b2fb8-8200-47a0-8893-4dddbf34121e",
   "metadata": {},
   "outputs": [
    {
     "name": "stdout",
     "output_type": "stream",
     "text": [
      "a2b4e4f2g3"
     ]
    }
   ],
   "source": [
    "text = \"aabbbbeeeeffggg\"\n",
    "lst = {}\n",
    "\n",
    "for i in range(len(text)):\n",
    "    key = text[i]\n",
    "    count = 0\n",
    "    for j in range(len(text)):\n",
    "        if key == text[j]:\n",
    "            count += 1\n",
    "    lst[key] = count\n",
    "\n",
    "for i, j in lst.items():\n",
    "    print(i, j, sep='', end='')\n"
   ]
  },
  {
   "cell_type": "code",
   "execution_count": 53,
   "id": "15924b5b-2533-4bf7-9ba3-167ea5906466",
   "metadata": {},
   "outputs": [
    {
     "name": "stdout",
     "output_type": "stream",
     "text": [
      "3\n",
      "{(1, 2): 1, (2, 3): 2, (4, 5, 5): 3}\n"
     ]
    }
   ],
   "source": [
    "a = {(1, 2):1, (2, 3):2, (4, 5, 5):3}\n",
    "print(a[4, 5, 5])\n",
    "print(a)"
   ]
  },
  {
   "cell_type": "code",
   "execution_count": 43,
   "id": "4de9b6dd-e16f-4e29-a1ce-ee03d068a277",
   "metadata": {},
   "outputs": [
    {
     "name": "stdout",
     "output_type": "stream",
     "text": [
      "3\n"
     ]
    }
   ],
   "source": [
    "fruit = {}\n",
    "def addone(index):\n",
    "    if index in fruit:\n",
    "        fruit[index]=+1\n",
    "    else:\n",
    "        fruit[index] = 1\n",
    "\n",
    "addone(\"Apple\")\n",
    "addone(\"Banana\")\n",
    "addone(\"apple\")\n",
    "print(len(fruit))"
   ]
  },
  {
   "cell_type": "code",
   "execution_count": 44,
   "id": "e973f3bf-99f1-4ea4-a57a-0a1230204e03",
   "metadata": {},
   "outputs": [
    {
     "name": "stdout",
     "output_type": "stream",
     "text": [
      "4\n"
     ]
    }
   ],
   "source": [
    "arr = {}\n",
    "arr[1] = 1\n",
    "arr['1'] = 2\n",
    "arr[1] += 1\n",
    "sum = 0\n",
    "\n",
    "for k in arr:\n",
    "    sum += arr[k]\n",
    "\n",
    "print(sum)"
   ]
  },
  {
   "cell_type": "code",
   "execution_count": 46,
   "id": "3ef53b2e-4671-4175-a1a8-8c19aa3e98b1",
   "metadata": {},
   "outputs": [
    {
     "name": "stdout",
     "output_type": "stream",
     "text": [
      "6\n"
     ]
    }
   ],
   "source": [
    "my = {}\n",
    "my[1] = 1\n",
    "my['1'] = 2\n",
    "my[1.0] = 4\n",
    "sum = 0\n",
    "for k in my:\n",
    "    sum += my[k]\n",
    "print(sum)"
   ]
  },
  {
   "cell_type": "code",
   "execution_count": 54,
   "id": "50272f4e-0975-4e5b-a01a-933e648cf5f9",
   "metadata": {},
   "outputs": [],
   "source": [
    "box ={}\n",
    "jar = {}\n",
    "\n",
    "jar['box'] = box"
   ]
  },
  {
   "cell_type": "code",
   "execution_count": 57,
   "id": "619093a2-642e-491a-b187-936f5a5e9d17",
   "metadata": {},
   "outputs": [
    {
     "name": "stdout",
     "output_type": "stream",
     "text": [
      "96\n",
      "98\n",
      "97\n"
     ]
    }
   ],
   "source": [
    "ditc = {'c': 97, 'a':96, 'b': 98}\n",
    "for _ in sorted(ditc):\n",
    "    print(ditc[_])"
   ]
  },
  {
   "cell_type": "code",
   "execution_count": 60,
   "id": "228b99ff-4c5b-49a1-9a94-7ac5b8280a3a",
   "metadata": {},
   "outputs": [
    {
     "name": "stdout",
     "output_type": "stream",
     "text": [
      "False\n"
     ]
    }
   ],
   "source": [
    "rec = {'name': \"python\"}\n",
    "r = id(rec)\n",
    "del rec\n",
    "rec = {'name': \"python\"}\n",
    "r1 = id(rec)\n",
    "print(id(r) == id(r1))"
   ]
  },
  {
   "cell_type": "code",
   "execution_count": null,
   "id": "c5d921df-168c-43cb-b882-ce31d1ef9517",
   "metadata": {},
   "outputs": [],
   "source": []
  }
 ],
 "metadata": {
  "kernelspec": {
   "display_name": "Python 3 (ipykernel)",
   "language": "python",
   "name": "python3"
  },
  "language_info": {
   "codemirror_mode": {
    "name": "ipython",
    "version": 3
   },
   "file_extension": ".py",
   "mimetype": "text/x-python",
   "name": "python",
   "nbconvert_exporter": "python",
   "pygments_lexer": "ipython3",
   "version": "3.10.10"
  }
 },
 "nbformat": 4,
 "nbformat_minor": 5
}
