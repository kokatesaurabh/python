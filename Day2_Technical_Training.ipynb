{
 "cells": [
  {
   "cell_type": "markdown",
   "id": "42629f67-0a31-46cc-8a2a-8caa04100d63",
   "metadata": {},
   "source": [
    "# Lists\n",
    "List is a mutable, ordered collection"
   ]
  },
  {
   "cell_type": "code",
   "execution_count": 1,
   "id": "2b62fa2f-9d1a-43b9-bb67-1e501135523c",
   "metadata": {},
   "outputs": [
    {
     "name": "stdout",
     "output_type": "stream",
     "text": [
      "['__add__', '__class__', '__class_getitem__', '__contains__', '__delattr__', '__delitem__', '__dir__', '__doc__', '__eq__', '__format__', '__ge__', '__getattribute__', '__getitem__', '__gt__', '__hash__', '__iadd__', '__imul__', '__init__', '__init_subclass__', '__iter__', '__le__', '__len__', '__lt__', '__mul__', '__ne__', '__new__', '__reduce__', '__reduce_ex__', '__repr__', '__reversed__', '__rmul__', '__setattr__', '__setitem__', '__sizeof__', '__str__', '__subclasshook__', 'append', 'clear', 'copy', 'count', 'extend', 'index', 'insert', 'pop', 'remove', 'reverse', 'sort']\n"
     ]
    }
   ],
   "source": [
    "shopping_list = []\n",
    "print(dir(shopping_list))"
   ]
  },
  {
   "cell_type": "code",
   "execution_count": 2,
   "id": "aa101702-6da6-474b-a869-5d9f5d706285",
   "metadata": {},
   "outputs": [
    {
     "name": "stdout",
     "output_type": "stream",
     "text": [
      "[1, 2]\n"
     ]
    }
   ],
   "source": [
    "shopping_list.append(1)\n",
    "shopping_list.insert(0,2)\n",
    "shopping_list.sort()\n",
    "print(shopping_list)"
   ]
  },
  {
   "cell_type": "code",
   "execution_count": 3,
   "id": "bd8d8ee6-ff1e-439f-8a5a-7d8b8bfd526b",
   "metadata": {},
   "outputs": [
    {
     "name": "stdout",
     "output_type": "stream",
     "text": [
      "[1, 2, 3, 4, 5, 6, 7, 8, 9, 10, 11, 12, 13, 14, 15, 16, 17, 18, 19, 20, 21, 22, 23, 24, 25, 26, 27, 28, 29, 30, 31, 32, 33, 34, 35, 36, 37, 38, 39, 40, 41, 42, 43, 44, 45, 46, 47, 48, 49, 50]\n"
     ]
    }
   ],
   "source": [
    "print(list(range(1, 51)))"
   ]
  },
  {
   "cell_type": "markdown",
   "id": "1df16477-66ee-4a19-ae94-82b38038c6a4",
   "metadata": {},
   "source": [
    "l1 = [ 1, 2 ,-3, 4 ,0, 6, 7 ] \n",
    "l1.sort()"
   ]
  },
  {
   "cell_type": "code",
   "execution_count": 4,
   "id": "690f8804-a201-481e-aead-dc998cdea9bf",
   "metadata": {},
   "outputs": [
    {
     "name": "stdout",
     "output_type": "stream",
     "text": [
      "[7, 6, 4, 2, 1, 0, -3]\n"
     ]
    }
   ],
   "source": [
    "l1 = [ 1, 2 ,-3, 4 ,0, 6, 7 ] \n",
    "l1.sort(reverse=True)\n",
    "print(l1)"
   ]
  },
  {
   "cell_type": "code",
   "execution_count": 5,
   "id": "f1426a2d-c7d8-4621-9b63-026c021b4edf",
   "metadata": {},
   "outputs": [
    {
     "name": "stdout",
     "output_type": "stream",
     "text": [
      "[1, 2, 3, 4, 6, 7, 8, 9]\n",
      "[6, 7, 8, 9]\n"
     ]
    }
   ],
   "source": [
    "a=list(range(1,5))\n",
    "b=list(range(6, 10))\n",
    "a.extend(b)\n",
    "print(a)\n",
    "print(b)"
   ]
  },
  {
   "cell_type": "code",
   "execution_count": 6,
   "id": "8ac4925f-8b87-4053-80d8-06d28e36434e",
   "metadata": {},
   "outputs": [
    {
     "name": "stdout",
     "output_type": "stream",
     "text": [
      "[1, 4, 9, 16, 25, 36, 49, 64, 81, 100]\n"
     ]
    }
   ],
   "source": [
    "lst= list(range(1, 11))\n",
    "ans=[]\n",
    "for i in lst:\n",
    "    ans.append(i**2)\n",
    "\n",
    "print(ans)"
   ]
  },
  {
   "cell_type": "code",
   "execution_count": 7,
   "id": "43b3f947-e4c7-4ea7-80e9-9c6a6c08bd6c",
   "metadata": {},
   "outputs": [
    {
     "data": {
      "text/plain": [
       "['aashique', 'avengers', 'boothnath', 'chaava', 'dangal']"
      ]
     },
     "execution_count": 7,
     "metadata": {},
     "output_type": "execute_result"
    }
   ],
   "source": [
    "lst = [\"chaava\", \"aashique\", \"dangal\", \"boothnath\", \"avengers\"]\n",
    "\n",
    "lst.sort()\n",
    "lst"
   ]
  },
  {
   "cell_type": "code",
   "execution_count": 8,
   "id": "fd4b80d5-19e5-4c03-8c37-b62fdf6caf23",
   "metadata": {},
   "outputs": [
    {
     "data": {
      "text/plain": [
       "['A', 'B', 'a', 'b']"
      ]
     },
     "execution_count": 8,
     "metadata": {},
     "output_type": "execute_result"
    }
   ],
   "source": [
    "letter = list(\"abAB\")  #convert string to list\n",
    "letter.sort()\n",
    "letter"
   ]
  },
  {
   "cell_type": "code",
   "execution_count": 9,
   "id": "77521f51-b97f-4762-b6b6-7e5bbc83a7e9",
   "metadata": {},
   "outputs": [
    {
     "data": {
      "text/plain": [
       "[0, 1, 20, 5, 8, 13]"
      ]
     },
     "execution_count": 9,
     "metadata": {},
     "output_type": "execute_result"
    }
   ],
   "source": [
    "lst = [0, 1, 1, 2, 3, 5, 8, 13]\n",
    "\n",
    "lst[2:5]= [20] # replacing character in list\n",
    "lst"
   ]
  },
  {
   "cell_type": "code",
   "execution_count": 10,
   "id": "677d153a-98ea-457b-8a68-6f0ad3e0270b",
   "metadata": {},
   "outputs": [
    {
     "data": {
      "text/plain": [
       "5"
      ]
     },
     "execution_count": 10,
     "metadata": {},
     "output_type": "execute_result"
    }
   ],
   "source": [
    "nested_l = [[1,2],\n",
    "            [3,4],\n",
    "            [5,6]]\n",
    "nested_l[2][-2]"
   ]
  },
  {
   "cell_type": "code",
   "execution_count": 11,
   "id": "969856c0-5a39-49c5-b7d0-c3df08babfd6",
   "metadata": {},
   "outputs": [
    {
     "name": "stdout",
     "output_type": "stream",
     "text": [
      "9\n"
     ]
    }
   ],
   "source": [
    "numbers = [[1,2,2],\n",
    "           [3,4,4],\n",
    "           [5,6,4]]\n",
    "\n",
    "print(numbers[0][0]+numbers[1][1]+numbers[2][2])"
   ]
  },
  {
   "cell_type": "code",
   "execution_count": 12,
   "id": "f9e7a63d-b091-436a-b927-0041d3e4ca1d",
   "metadata": {},
   "outputs": [
    {
     "name": "stdout",
     "output_type": "stream",
     "text": [
      "['hsinam', 'mahos', 'vahbuna', 'lajus']\n"
     ]
    }
   ],
   "source": [
    "# Reverse each string in list\n",
    "names = [\"manish\", \"soham\", \"anubhav\", \"sujal\"]\n",
    "\n",
    "for i in range(0, len(names)):\n",
    "    names[i] = names[i][::-1]\n",
    "print(names)"
   ]
  },
  {
   "cell_type": "code",
   "execution_count": 13,
   "id": "7d9ce516-01e3-40e0-8007-5015dbb9ceeb",
   "metadata": {},
   "outputs": [
    {
     "name": "stdout",
     "output_type": "stream",
     "text": [
      "[5, 1, 2, 3, 4]\n",
      "[4, 5, 1, 2, 3]\n",
      "[3, 4, 5, 1, 2]\n",
      "[2, 3, 4, 5, 1]\n",
      "[1, 2, 3, 4, 5]\n"
     ]
    }
   ],
   "source": [
    "#rotate a list\n",
    "\n",
    "lst = [1,2,3,4,5]\n",
    "\n",
    "for i in range(0, len(lst)):\n",
    "    lst.insert(0, lst.pop())\n",
    "    print(lst)"
   ]
  },
  {
   "cell_type": "code",
   "execution_count": 14,
   "id": "933094b7-6fc0-4b17-b2b6-b526df3d7890",
   "metadata": {},
   "outputs": [
    {
     "data": {
      "text/plain": [
       "'list is empty'"
      ]
     },
     "execution_count": 14,
     "metadata": {},
     "output_type": "execute_result"
    }
   ],
   "source": [
    "lst = []\n",
    "\n",
    "\"list is empty\" if len(lst)==0 else \"Not Eempty\""
   ]
  },
  {
   "cell_type": "code",
   "execution_count": 15,
   "id": "fdc20297-7abd-4288-a938-11ea523f0e84",
   "metadata": {},
   "outputs": [
    {
     "data": {
      "text/plain": [
       "'manish'"
      ]
     },
     "execution_count": 15,
     "metadata": {},
     "output_type": "execute_result"
    }
   ],
   "source": [
    "#convert a list into string\n",
    "chars = [\"m\",\"a\",\"n\",\"i\",\"s\",\"h\"]\n",
    "\n",
    "\"\".join(chars)"
   ]
  },
  {
   "cell_type": "code",
   "execution_count": 16,
   "id": "5ae1c374-8c3f-4b35-bd74-dd344a2f8a3a",
   "metadata": {},
   "outputs": [
    {
     "name": "stdout",
     "output_type": "stream",
     "text": [
      "['A1', 'B1', 'A2', 'B2']\n"
     ]
    }
   ],
   "source": [
    "lst = [\"A\",\"B\"]\n",
    "n=3\n",
    "new_list=[]\n",
    "\n",
    "for i in range(1, n):\n",
    "    for j in lst:\n",
    "        new_list.append(j+str(i))\n",
    "print(new_list)"
   ]
  },
  {
   "cell_type": "code",
   "execution_count": 17,
   "id": "bf68b212-8ae6-41fb-badc-aca5a43eb133",
   "metadata": {},
   "outputs": [
    {
     "name": "stdout",
     "output_type": "stream",
     "text": [
      "6\n",
      "python learning me\n"
     ]
    }
   ],
   "source": [
    "#find length of last word\n",
    "text = \"me learning python\"\n",
    "\n",
    "word= text.split()\n",
    "print(len(word[-1]))\n",
    "word.reverse()\n",
    "print(\" \".join(word))"
   ]
  },
  {
   "cell_type": "code",
   "execution_count": 18,
   "id": "21b4da0e-c9c0-4859-b262-27ed04f02f12",
   "metadata": {},
   "outputs": [
    {
     "name": "stdout",
     "output_type": "stream",
     "text": [
      "d c t n e u a i o\n"
     ]
    }
   ],
   "source": [
    "# take string rearrange the vowels and consonent\n",
    "# vowels should comes after the consonent\n",
    "\n",
    "text = \"education\"\n",
    "vowels = \"aieou\"\n",
    "vols = []\n",
    "consonent = []\n",
    "\n",
    "for i in text:\n",
    "    if i in vowels:\n",
    "        vols.append(i)\n",
    "    else:\n",
    "        consonent.append(i)     \n",
    "\n",
    "print(\" \".join(consonent+vols))\n"
   ]
  },
  {
   "cell_type": "code",
   "execution_count": 42,
   "id": "8010f893-572d-449d-8f1c-a79bfc7e35de",
   "metadata": {},
   "outputs": [
    {
     "name": "stdout",
     "output_type": "stream",
     "text": [
      "42000\n",
      "['Amit', 'Laptop', [35000, 42000, 85000, 56000], 20000]\n",
      "['Amit', 'Tablet', [35000, 42000, 85000, 56000], 20000]\n",
      "['Amit', 'Tablet', [35000, 42000, 85000, 56000]]\n"
     ]
    }
   ],
   "source": [
    "sale = [\"Amit\",\"Laptop\",[35000,42000,85000],20000]\n",
    "\n",
    "#1) Print the sell of 2nd quarter\n",
    "print(sale[2][1])\n",
    "\n",
    "#2 add 56000 quarter\n",
    "sale[2].append(56000)\n",
    "print(sale)\n",
    "\n",
    "#3 replace laptop with tablet\n",
    "sale[1]=\"Tablet\"\n",
    "print(sale)\n",
    "\n",
    "#4 remove commission\n",
    "sale.pop(-1)\n",
    "print(sale)\n",
    "\n",
    "#5 "
   ]
  },
  {
   "cell_type": "code",
   "execution_count": 50,
   "id": "bf5850d6-2bf3-4639-9b96-3fff18afe48b",
   "metadata": {},
   "outputs": [
    {
     "name": "stdout",
     "output_type": "stream",
     "text": [
      "['Hello', 'hEllo', 'heLlo', 'helLo', 'hellO']\n"
     ]
    }
   ],
   "source": [
    "# Maxican wave problem\n",
    "word = \"hello\"\n",
    "ans = []\n",
    "for i in range(0, len(word)):\n",
    "    ans.append(word[:i]+word[i].upper()+word[i+1:])\n",
    "print(ans)"
   ]
  },
  {
   "cell_type": "code",
   "execution_count": 53,
   "id": "86ba7c3c-a037-4481-98cc-c71cde5ea8a8",
   "metadata": {},
   "outputs": [
    {
     "name": "stdin",
     "output_type": "stream",
     "text": [
      " this is me\n"
     ]
    },
    {
     "name": "stdout",
     "output_type": "stream",
     "text": [
      "this-is-me\n"
     ]
    }
   ],
   "source": [
    "def split_and_join(line):\n",
    "    # write your code here\n",
    "    return \"-\".join(line.split())\n",
    "    \n",
    "if __name__ == '__main__':\n",
    "    line = input()\n",
    "    result = split_and_join(line)\n",
    "    print(result)"
   ]
  },
  {
   "cell_type": "code",
   "execution_count": null,
   "id": "c0f820ce-4f2c-4371-a3f7-a00bc5692ded",
   "metadata": {},
   "outputs": [],
   "source": [
    "def mutate_string(string, position, character):\n",
    "    return string[:position]+ character + string[position+1:]\n",
    "\n",
    "if __name__ == '__main__':\n",
    "    s = input()\n",
    "    i, c = input().split()\n",
    "    s_new = mutate_string(s, int(i), c)\n",
    "    print(s_new)"
   ]
  },
  {
   "cell_type": "code",
   "execution_count": 69,
   "id": "95aef364-aaf4-4faa-bf83-e06cf83e274b",
   "metadata": {},
   "outputs": [
    {
     "name": "stdout",
     "output_type": "stream",
     "text": [
      "Ohhh what a lovely place\n"
     ]
    }
   ],
   "source": [
    "import string\n",
    "\n",
    "text = \"Ohhh, what a lovely place!!!!!!\"\n",
    "new_text=\"\"\n",
    "\n",
    "for i in text:\n",
    "    if i not in string.punctuation:\n",
    "        new_text=new_text+i\n",
    "print(new_text)\n",
    "        "
   ]
  },
  {
   "cell_type": "markdown",
   "id": "52916e6e-b1a1-4f96-aed9-4e71fd133354",
   "metadata": {},
   "source": [
    "# set"
   ]
  },
  {
   "cell_type": "code",
   "execution_count": 80,
   "id": "25631dcc-0619-4499-913e-305d85347344",
   "metadata": {},
   "outputs": [
    {
     "name": "stdout",
     "output_type": "stream",
     "text": [
      "[1, 2, 3, 4, 5]\n",
      "raunk\n"
     ]
    }
   ],
   "source": [
    "# take a list remove the dupicaton \n",
    "\n",
    "text = [1,2,3,1,2,3,4,5,5,]\n",
    "# print(list(set(text)))\n",
    "\n",
    "buffer = []\n",
    "\n",
    "for i in text:\n",
    "    if i not in buffer:\n",
    "        buffer.append(i)\n",
    "print(buffer)\n",
    "\n",
    "name = \"raunak\"\n",
    "txt = \"\"\n",
    "for i in name:\n",
    "    if i not in txt:\n",
    "        txt += i\n",
    "print(txt)"
   ]
  },
  {
   "cell_type": "code",
   "execution_count": 81,
   "id": "8a8da1b2-b2e4-4581-bf03-5e168dd4be44",
   "metadata": {},
   "outputs": [
    {
     "name": "stdout",
     "output_type": "stream",
     "text": [
      "['__add__', '__class__', '__class_getitem__', '__contains__', '__delattr__', '__delitem__', '__dir__', '__doc__', '__eq__', '__format__', '__ge__', '__getattribute__', '__getitem__', '__gt__', '__hash__', '__iadd__', '__imul__', '__init__', '__init_subclass__', '__iter__', '__le__', '__len__', '__lt__', '__mul__', '__ne__', '__new__', '__reduce__', '__reduce_ex__', '__repr__', '__reversed__', '__rmul__', '__setattr__', '__setitem__', '__sizeof__', '__str__', '__subclasshook__', 'append', 'clear', 'copy', 'count', 'extend', 'index', 'insert', 'pop', 'remove', 'reverse', 'sort']\n"
     ]
    }
   ],
   "source": [
    "print(dir(set))"
   ]
  },
  {
   "cell_type": "code",
   "execution_count": 88,
   "id": "213f7a57-6d83-4955-9b29-14050a66ac6f",
   "metadata": {},
   "outputs": [
    {
     "name": "stdout",
     "output_type": "stream",
     "text": [
      "True\n",
      "False\n"
     ]
    }
   ],
   "source": [
    "lst = {1,2,3,4,4}\n",
    "sec = {7,8,9}\n",
    "\n",
    "print(lst.isdisjoint(sec))\n",
    "print(lst.issubset(sec))\n"
   ]
  },
  {
   "cell_type": "code",
   "execution_count": 103,
   "id": "aedcdcb2-d6eb-4263-8bea-d26452f42c07",
   "metadata": {},
   "outputs": [
    {
     "name": "stdout",
     "output_type": "stream",
     "text": [
      "['5', '0', '22', '123', '2133', '55555']\n"
     ]
    }
   ],
   "source": [
    "# take a list of strings sort the list based on len of strings\n",
    "\n",
    "lst = ['123', '22', '55555', '2133', '5', '0']\n",
    "for i in range(0, len(lst)):\n",
    "    for j in range(i+1, len(lst)):\n",
    "        if len(lst[i])>len(lst[j]):\n",
    "            lst[i], lst[j]=lst[j], lst[i]\n",
    "\n",
    "print(lst)\n",
    "        \n",
    "            \n",
    "    "
   ]
  },
  {
   "cell_type": "code",
   "execution_count": null,
   "id": "a4095839-698f-403e-acb3-cde1053e6c44",
   "metadata": {},
   "outputs": [],
   "source": []
  }
 ],
 "metadata": {
  "kernelspec": {
   "display_name": "Python 3 (ipykernel)",
   "language": "python",
   "name": "python3"
  },
  "language_info": {
   "codemirror_mode": {
    "name": "ipython",
    "version": 3
   },
   "file_extension": ".py",
   "mimetype": "text/x-python",
   "name": "python",
   "nbconvert_exporter": "python",
   "pygments_lexer": "ipython3",
   "version": "3.10.10"
  }
 },
 "nbformat": 4,
 "nbformat_minor": 5
}
