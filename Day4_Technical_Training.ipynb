{
 "cells": [
  {
   "cell_type": "markdown",
   "id": "a3afcb19-4501-482b-baa9-4f31235f8b56",
   "metadata": {},
   "source": [
    "# Exception Handling"
   ]
  },
  {
   "cell_type": "code",
   "execution_count": 34,
   "id": "8743b513-1a6c-4a90-bc3b-029ed747ddd8",
   "metadata": {},
   "outputs": [
    {
     "name": "stdin",
     "output_type": "stream",
     "text": [
      "NO 1 :  4\n",
      "NO 2 :  4\n"
     ]
    },
    {
     "name": "stdout",
     "output_type": "stream",
     "text": [
      "1\n"
     ]
    }
   ],
   "source": [
    "# Exception handling  \n",
    "try:\n",
    "    val1 =  int(input(\"NO 1 : \"))\n",
    "    val2 =  int(input(\"NO 2 : \"))\n",
    "    print(int(val1 / val2))\n",
    "    \n",
    "except ZeroDivisionError as message:\n",
    "    print(message)\n",
    "except ValueError as message:\n",
    "    print(\"Error Description: Enter only integer value - \", message)\n"
   ]
  },
  {
   "cell_type": "code",
   "execution_count": 38,
   "id": "7b645ffe-29a8-48e1-bcb6-8c5af6bc6378",
   "metadata": {},
   "outputs": [
    {
     "name": "stdin",
     "output_type": "stream",
     "text": [
      "NO 1 :  4\n",
      "NO 2 :  0\n"
     ]
    },
    {
     "name": "stdout",
     "output_type": "stream",
     "text": [
      "Error Description:  division by zero\n"
     ]
    }
   ],
   "source": [
    " # Multiple Exception handling with single except \n",
    "try:\n",
    "    val1 =  int(input(\"NO 1 : \"))\n",
    "    val2 =  int(input(\"NO 2 : \"))\n",
    "    print(int(val1 / val2))\n",
    "except (ZeroDivisionError, ValueError) as message:\n",
    "    print(\"Error Description: \", message)"
   ]
  },
  {
   "cell_type": "code",
   "execution_count": 39,
   "id": "ad10a63a-212b-48bf-bc78-f3691102daf2",
   "metadata": {},
   "outputs": [
    {
     "name": "stdin",
     "output_type": "stream",
     "text": [
      "NO 1 :  4\n",
      "NO 2 :  6\n"
     ]
    },
    {
     "name": "stdout",
     "output_type": "stream",
     "text": [
      "0\n"
     ]
    }
   ],
   "source": [
    "# Default except must be last\n",
    "try:\n",
    "    val1 =  int(input(\"NO 1 : \"))\n",
    "    val2 =  int(input(\"NO 2 : \"))\n",
    "    print(int(val1 / val2))\n",
    "except (ZeroDivisionError, ValueError) as message:\n",
    "    print(\"Error Description: \", message)\n",
    "except:\n",
    "    print(\"This is default block\")"
   ]
  },
  {
   "cell_type": "code",
   "execution_count": 40,
   "id": "de4d4e8f-87d3-4b18-ad09-536fb5fe0982",
   "metadata": {},
   "outputs": [
    {
     "name": "stdin",
     "output_type": "stream",
     "text": [
      "NO 1 :  4\n",
      "NO 2 :  $\n"
     ]
    },
    {
     "name": "stdout",
     "output_type": "stream",
     "text": [
      "Error Description:  invalid literal for int() with base 10: '$'\n"
     ]
    }
   ],
   "source": [
    "# else block in exception\n",
    "try:\n",
    "    val1 =  int(input(\"NO 1 : \"))\n",
    "    val2 =  int(input(\"NO 2 : \"))\n",
    "    print(int(val1 / val2))\n",
    "except (ZeroDivisionError, ValueError) as message:\n",
    "    print(\"Error Description: \", message)\n",
    "else:\n",
    "    print(\"Everything is Okay\")"
   ]
  },
  {
   "cell_type": "code",
   "execution_count": 42,
   "id": "e16face9-87ad-4604-911e-71269ada4247",
   "metadata": {},
   "outputs": [
    {
     "name": "stdin",
     "output_type": "stream",
     "text": [
      "NO 1 :  555555555555555555555555555555555555555555\n",
      "NO 2 :  5\n"
     ]
    },
    {
     "name": "stdout",
     "output_type": "stream",
     "text": [
      "111111111111111120396815433971561152905216\n",
      "It will always execute\n"
     ]
    }
   ],
   "source": [
    "# finally block\n",
    "try:\n",
    "    val1 =  int(input(\"NO 1 : \"))\n",
    "    val2 =  int(input(\"NO 2 : \"))\n",
    "    print(int(val1 / val2))\n",
    "except (ZeroDivisionError, ValueError) as message:\n",
    "    print(\"Error Description: \", message)\n",
    "finally:\n",
    "    print(\"It will always execute\")\n"
   ]
  },
  {
   "cell_type": "code",
   "execution_count": 44,
   "id": "d52971ec-4182-4d18-8132-484cb3cc0c02",
   "metadata": {},
   "outputs": [
    {
     "name": "stdin",
     "output_type": "stream",
     "text": [
      "NO 1 :  4\n",
      "NO 2 :  #\n"
     ]
    },
    {
     "name": "stdout",
     "output_type": "stream",
     "text": [
      "invalid literal for int() with base 10: '#'\n"
     ]
    }
   ],
   "source": [
    "# Nested try except block\n",
    "\n",
    "try:\n",
    "    val1 =  int(input(\"NO 1 : \"))\n",
    "    val2 =  int(input(\"NO 2 : \"))\n",
    "    try: \n",
    "        print(int(val1 / val2))\n",
    "    except ZeroDivisionError as msg:\n",
    "        print(msg)\n",
    "except ValueError as msg:\n",
    "    print(msg)"
   ]
  },
  {
   "cell_type": "code",
   "execution_count": 46,
   "id": "6a3e4a28-7704-4a32-8da6-b4d807b42fbc",
   "metadata": {},
   "outputs": [
    {
     "name": "stdin",
     "output_type": "stream",
     "text": [
      "NO 1 :  4\n",
      "NO 2 :  4\n"
     ]
    },
    {
     "name": "stdout",
     "output_type": "stream",
     "text": [
      "1\n",
      "Everything is okay\n",
      "It will always execute\n"
     ]
    }
   ],
   "source": [
    "try:\n",
    "    val1 =  int(input(\"NO 1 : \"))\n",
    "    val2 =  int(input(\"NO 2 : \"))\n",
    "    print(int(val1 / val2))\n",
    "except (ZeroDivisionError, ValueError) as message:\n",
    "    print(\"Error Description: \", message)\n",
    "else:\n",
    "    print(\"Everything is okay\")\n",
    "finally:\n",
    "    print(\"It will always execute\")"
   ]
  },
  {
   "cell_type": "markdown",
   "id": "aefd99bb-99db-45a2-b9f1-fffc8d0eb442",
   "metadata": {},
   "source": [
    "# Typecasting"
   ]
  },
  {
   "cell_type": "code",
   "execution_count": 56,
   "id": "04b7c832-0f74-4d41-ae4f-baa5a8d9a4b4",
   "metadata": {},
   "outputs": [
    {
     "name": "stdout",
     "output_type": "stream",
     "text": [
      "3\n",
      "1\n",
      "0\n"
     ]
    }
   ],
   "source": [
    "# converting into int\n",
    "\n",
    "print(int(3.14))\n",
    "# print(int(4+3J))\n",
    "print(int(True))\n",
    "print(int(False))    # commented values can not converted \n",
    "# print(int(\"4.22\"))\n",
    "# print(int(\"Manish\"))"
   ]
  },
  {
   "cell_type": "code",
   "execution_count": 55,
   "id": "dfd8c649-a816-4446-a100-175d1edc3f87",
   "metadata": {},
   "outputs": [
    {
     "name": "stdout",
     "output_type": "stream",
     "text": [
      "3.14\n",
      "1.0\n",
      "0.0\n",
      "4.22\n"
     ]
    }
   ],
   "source": [
    "# Converting into float\n",
    "\n",
    "print(float(3.14))\n",
    "# print(float(4+3J))\n",
    "print(float(True))\n",
    "print(float(False))    # commented values can not converted \n",
    "print(float(\"4.22\"))\n",
    "# print(float(\"Manish\"))"
   ]
  },
  {
   "cell_type": "code",
   "execution_count": 60,
   "id": "40afc185-5a93-46b9-998f-372e0b746d3e",
   "metadata": {},
   "outputs": [
    {
     "name": "stdout",
     "output_type": "stream",
     "text": [
      "(3.14+0j)\n",
      "(2+0j)\n",
      "(1+0j)\n",
      "0j\n",
      "(4.22+0j)\n",
      "(3-3j)\n",
      "(1+0j)\n"
     ]
    }
   ],
   "source": [
    "# Converting into complex\n",
    "\n",
    "print(complex(3.14))\n",
    "print(complex(2))\n",
    "print(complex(True))\n",
    "print(complex(False))    # commented values can not converted \n",
    "print(complex(\"4.22\"))\n",
    "# print(complex(\"Manish\"))\n",
    "print(complex(3, -3))\n",
    "print(complex(True, False))"
   ]
  },
  {
   "cell_type": "code",
   "execution_count": 63,
   "id": "bfef77ef-a00b-4624-952e-e8dd84cedb6b",
   "metadata": {},
   "outputs": [
    {
     "name": "stdout",
     "output_type": "stream",
     "text": [
      "False\n",
      "True\n",
      "True\n",
      "False\n",
      "True\n",
      "False\n",
      "True\n",
      "False\n",
      "False\n",
      "True\n"
     ]
    }
   ],
   "source": [
    "# Converted into bool\n",
    "\n",
    "print(bool(0))\n",
    "print(bool(15))\n",
    "print(bool(3.14))\n",
    "print(bool(0.0))\n",
    "print(bool(1+2j))\n",
    "print(bool(0+0j))\n",
    "print(bool(-1))\n",
    "print(bool(False))\n",
    "print(bool(\"\"))\n",
    "print(bool(True))"
   ]
  },
  {
   "cell_type": "code",
   "execution_count": 67,
   "id": "f87dbb40-82b7-4036-95ff-3c0401a15811",
   "metadata": {},
   "outputs": [
    {
     "name": "stdin",
     "output_type": "stream",
     "text": [
      "Enter the number of row:  5\n"
     ]
    },
    {
     "name": "stdout",
     "output_type": "stream",
     "text": [
      "A A A A A \n",
      "B B B B B \n",
      "C C C C C \n",
      "D D D D D \n",
      "E E E E E \n"
     ]
    }
   ],
   "source": [
    "n = int(input(\"Enter the number of row: \" ) )\n",
    "\n",
    "for i in range(1, n+1):\n",
    "    for j in range(1, n+1):\n",
    "        print(chr(64+i), end=\" \")\n",
    "    print()"
   ]
  },
  {
   "cell_type": "code",
   "execution_count": 68,
   "id": "8dac8d19-6c99-4499-8997-7241acb02158",
   "metadata": {},
   "outputs": [
    {
     "name": "stdout",
     "output_type": "stream",
     "text": [
      "5 5 5 5 5 \n",
      "4 4 4 4 4 \n",
      "3 3 3 3 3 \n",
      "2 2 2 2 2 \n",
      "1 1 1 1 1 \n"
     ]
    }
   ],
   "source": [
    "for i in range(1, n+1):\n",
    "    for j in range(1, n+1):\n",
    "        print(n+1-i, end=\" \")\n",
    "    print()"
   ]
  },
  {
   "cell_type": "code",
   "execution_count": 70,
   "id": "fb4d0ccf-f851-4e84-8d6d-034a2a29fa85",
   "metadata": {},
   "outputs": [
    {
     "name": "stdout",
     "output_type": "stream",
     "text": [
      "* * * * * \n",
      "* * * * \n",
      "* * * \n",
      "* * \n",
      "* \n"
     ]
    }
   ],
   "source": [
    "for i in range(1, i+1):\n",
    "    for j in range(1, n+2-i):\n",
    "        print(\"*\", end=\" \")\n",
    "    print()"
   ]
  },
  {
   "cell_type": "code",
   "execution_count": 81,
   "id": "847424d2-be50-41e6-8169-f76a36d93a11",
   "metadata": {},
   "outputs": [
    {
     "name": "stdout",
     "output_type": "stream",
     "text": [
      "     A \n",
      "    A B \n",
      "   A B C \n",
      "  A B C D \n",
      " A B C D E \n"
     ]
    }
   ],
   "source": [
    "for i in range(1, n+1):\n",
    "    print(\" \"*(n-i), end=\" \")\n",
    "    for j in range(1, i+1):\n",
    "        print(chr(64+j), end=\" \")\n",
    "    print()"
   ]
  },
  {
   "cell_type": "code",
   "execution_count": 82,
   "id": "c4228ee9-60bb-4bfc-bb31-729d22501abc",
   "metadata": {},
   "outputs": [
    {
     "name": "stdout",
     "output_type": "stream",
     "text": [
      "160.0\n",
      "40.0\n",
      "110.0\n"
     ]
    }
   ],
   "source": [
    "160\n",
    "40\n",
    "110\n",
    "a = 50\n",
    "b = 30\n",
    "c = 20\n",
    "d = 10\n",
    "\n",
    "print((a+b)*c/d)\n",
    "print((a-b)*(c/d))\n",
    "print(a+(b*c)/d)"
   ]
  },
  {
   "cell_type": "code",
   "execution_count": 92,
   "id": "cd60a47c-3f74-4481-b125-30f24029d4d1",
   "metadata": {},
   "outputs": [
    {
     "name": "stdout",
     "output_type": "stream",
     "text": [
      "[1, 1, 2, 1, 2, 2]\n"
     ]
    }
   ],
   "source": [
    "n = 7\n",
    "price = [100, 80, 60, 70, 60, 75, 85]\n",
    "res = []\n",
    "for i in range(0, n-1):\n",
    "    if price[i] < price[i+1]:\n",
    "        res.append(2)\n",
    "    else:\n",
    "        res.append(1)\n",
    "print(res)"
   ]
  },
  {
   "cell_type": "code",
   "execution_count": 109,
   "id": "d29f318b-243b-4806-b029-a408fc3b3d75",
   "metadata": {},
   "outputs": [
    {
     "name": "stdout",
     "output_type": "stream",
     "text": [
      "no\n"
     ]
    }
   ],
   "source": [
    "a = \"silent\"\n",
    "b = \"listenyty\"\n",
    "\n",
    "anagram = \"\"\n",
    "for i in a:\n",
    "    if i in b:\n",
    "        anagram = anagram + i\n",
    "\n",
    "if anagram==a and len(b)==len(anagram):\n",
    "    print(\"yes\")\n",
    "else:\n",
    "    print(\"no\")"
   ]
  },
  {
   "cell_type": "code",
   "execution_count": 120,
   "id": "a3c0ef2e-0b76-4a05-9c19-d97392735afa",
   "metadata": {},
   "outputs": [
    {
     "name": "stdout",
     "output_type": "stream",
     "text": [
      "8\n"
     ]
    }
   ],
   "source": [
    "lst = [3, 2, 1, 7, 5, 4]\n",
    "\n",
    "min = max = lst[0]\n",
    "for i in range(1, len(lst)):\n",
    "    if lst[i] < min:\n",
    "        min = lst[i]\n",
    "    if lst[i] > max:\n",
    "        max = lst[i]\n",
    "        \n",
    "print(min+max)"
   ]
  },
  {
   "cell_type": "code",
   "execution_count": 125,
   "id": "83f5ad60-a78e-4a3b-80dd-c97ba45946ac",
   "metadata": {},
   "outputs": [
    {
     "name": "stdout",
     "output_type": "stream",
     "text": [
      "285\n"
     ]
    }
   ],
   "source": [
    "a = 6\n",
    "n = 30\n",
    "\n",
    "sumOfDiv = 0\n",
    "sumOfNonDiv = 0\n",
    "\n",
    "for i in range(0, n+1):\n",
    "    if i % a == 0:\n",
    "        sumOfDiv = sumOfDiv + i\n",
    "    if i % a != 0:\n",
    "        sumOfNonDiv = sumOfNonDiv + i\n",
    "        \n",
    "print( sumOfNonDiv - sumOfDiv )\n"
   ]
  },
  {
   "cell_type": "markdown",
   "id": "9c3ac0b5-93a4-4be3-bb6c-012b9a5a2999",
   "metadata": {},
   "source": [
    "# File Handling"
   ]
  },
  {
   "cell_type": "code",
   "execution_count": 127,
   "id": "dde492c3-9627-4114-ac23-67574d658892",
   "metadata": {},
   "outputs": [
    {
     "name": "stdout",
     "output_type": "stream",
     "text": [
      "Name of file myfile.txt\n",
      "File mode w\n",
      "Readable False\n",
      "writable True\n",
      "File is closed False\n",
      "File is closed True\n"
     ]
    }
   ],
   "source": [
    "f = open('myfile.txt', 'w')\n",
    "print(\"Name of file\", f.name)\n",
    "print(\"File mode\", f.mode)\n",
    "print(\"Readable\", f.readable())\n",
    "print(\"writable\", f.writable())\n",
    "print(\"File is closed\", f.closed)\n",
    "f.close()\n",
    "print(\"File is closed\", f.closed)"
   ]
  },
  {
   "cell_type": "code",
   "execution_count": 137,
   "id": "c3b1c138-3e20-4de9-b75b-fe7b7635ccce",
   "metadata": {},
   "outputs": [
    {
     "name": "stdout",
     "output_type": "stream",
     "text": [
      "done\n"
     ]
    }
   ],
   "source": [
    "''' write - overwrite previous data\n",
    "writeline, writelines '''\n",
    "\n",
    "# write By w operation\n",
    "f = open(\"myfile.txt\", 'w')\n",
    "f.write(\"\\n Thane is a smart city\")\n",
    "f.close()\n",
    "print(\"done\")"
   ]
  },
  {
   "cell_type": "code",
   "execution_count": 141,
   "id": "c9887d0a-c360-42a5-a099-340371d6b7b4",
   "metadata": {},
   "outputs": [
    {
     "name": "stdout",
     "output_type": "stream",
     "text": [
      "done\n"
     ]
    }
   ],
   "source": [
    "# write By append operation\n",
    "f = open(\"myfile.txt\", 'a')\n",
    "f.write(\"\\n Thane is a smart city\")\n",
    "f.close()\n",
    "print(\"done\")"
   ]
  },
  {
   "cell_type": "code",
   "execution_count": 142,
   "id": "23e6ded1-49cc-49a5-b5bd-42e3ea69a88f",
   "metadata": {},
   "outputs": [
    {
     "name": "stdout",
     "output_type": "stream",
     "text": [
      "Done\n"
     ]
    }
   ],
   "source": [
    "# write a list\n",
    "f = open(\"myfile.txt\", \"w\")\n",
    "myList = [\"Prashant\", \"Mahesh\", \"Suresh\"]\n",
    "f.writelines( myList)\n",
    "f.close()\n",
    "print(\"Done\")"
   ]
  },
  {
   "cell_type": "code",
   "execution_count": 143,
   "id": "847019a7-1c9e-41fb-94e1-4cbe580fbef4",
   "metadata": {},
   "outputs": [
    {
     "name": "stdout",
     "output_type": "stream",
     "text": [
      "PrashantMaheshSuresh\n"
     ]
    }
   ],
   "source": [
    "# Read file\n",
    "f = open(\"myfile.txt\", \"r\")\n",
    "print(f.read())\n",
    "f.close()"
   ]
  },
  {
   "cell_type": "code",
   "execution_count": 144,
   "id": "6be9c08e-fb82-403c-a0f2-cb79c08f3384",
   "metadata": {},
   "outputs": [
    {
     "name": "stdout",
     "output_type": "stream",
     "text": [
      "File closed:  False\n",
      "File closed:  True\n"
     ]
    }
   ],
   "source": [
    "# with statement\n",
    "\n",
    "with open(\"myfile.txt\", \"w\") as f:\n",
    "    f.write(\"Amit\\n\")\n",
    "    f.write(\"Ashish\\n\")\n",
    "    f.write(\"Prashant\\n\")\n",
    "    print(\"File closed: \", f.closed)\n",
    "print(\"File closed: \", f.closed)"
   ]
  },
  {
   "cell_type": "code",
   "execution_count": null,
   "id": "401070d7-cb0c-433f-864e-e46ff1e1b62f",
   "metadata": {},
   "outputs": [],
   "source": [
    "# tell() and seek() method"
   ]
  },
  {
   "cell_type": "code",
   "execution_count": 152,
   "id": "c34e41db-33b9-43e7-9e7e-41fd24dbf2a2",
   "metadata": {},
   "outputs": [
    {
     "data": {
      "text/plain": [
       "8161"
      ]
     },
     "execution_count": 152,
     "metadata": {},
     "output_type": "execute_result"
    }
   ],
   "source": [
    "# Binary File\n",
    "# pasting one image into another as binary data\n",
    "f1 = open(\"dog.jpeg\", \"rb\")\n",
    "f2 = open(\"rossom.jpeg\", \"wb\")\n",
    "data = f1.read()\n",
    "f2.write(data)"
   ]
  },
  {
   "cell_type": "code",
   "execution_count": 157,
   "id": "1aac3d50-050f-4712-824a-8cfeadde05d9",
   "metadata": {},
   "outputs": [
    {
     "name": "stdin",
     "output_type": "stream",
     "text": [
      "ID :  11\n",
      "Rollno :  1\n",
      "name :  manish\n",
      "Mobileno :  6565656\n"
     ]
    },
    {
     "name": "stdout",
     "output_type": "stream",
     "text": [
      "Done\n"
     ]
    }
   ],
   "source": [
    "import csv\n",
    "\n",
    "f = open(\"student.csv\", \"a\", newline=\"\")\n",
    "a = csv.writer(f)\n",
    "# a.writerow([\"studentid\", \"rollno\", \"name\", \"mobileno\"])\n",
    "studentid = int(input(\"ID : \"))\n",
    "rollno = int(input(\"Rollno : \"))\n",
    "name = input(\"name : \")\n",
    "mobileno = int(input(\"Mobileno : \"))\n",
    "a.writerow([studentid,rollno,name,mobileno])\n",
    "print(\"Done\")"
   ]
  },
  {
   "cell_type": "code",
   "execution_count": null,
   "id": "db65b2ae-2154-4016-bcce-d83a8e6ce8d8",
   "metadata": {},
   "outputs": [],
   "source": [
    "#  PLease run this code in visual studio code \n",
    "\n",
    "#import csv\n",
    "\n",
    "# Create a csv file and append data\n",
    "\n",
    "# f = open(\"result.csv\", \"a\", newline=\"\")\n",
    "# a = csv.writer(f)\n",
    "\n",
    "# a.writerow([\"studentid\", \"rollno\", \"name\", \"mobileno\", \"sub1\", \"sub2\", \"sub3\", \"sub4\", \"sub5\", \"total\", \"percentage\", \"pass\"])\n",
    "# studentid = int(input(\"ID : \"))\n",
    "# rollno = int(input(\"Rollno : \"))\n",
    "# name = input(\"name : \")\n",
    "# mobileno = int(input(\"Mobileno : \"))\n",
    "# sub1 = int(input(\"sub1 marks: \"))\n",
    "# sub2 = int(input(\"sub2 marks: \"))\n",
    "# sub3 = int(input(\"sub3 marks: \"))\n",
    "# sub4 = int(input(\"sub4 marks: \"))\n",
    "# sub5 = int(input(\"sub5 marks: \"))\n",
    "# total = sub1+sub2+sub3+sub4+sub5\n",
    "# percen = (total/500) * 100\n",
    "\n",
    "# pas = \"\"\n",
    "# if sub1 > 40 and sub2 > 40 and sub3 > 40 and sub4 > 40 and sub5 > 40:\n",
    "#     pas = \"Pass\"\n",
    "# else:\n",
    "#     pas = \"Fail\"\n",
    "\n",
    "# a.writerow([studentid,rollno,name,mobileno,sub1,sub2,sub3,sub4,sub5,total,percen,pas])\n",
    "\n",
    "# Read data from csv file\n",
    "\n",
    "# f = open(\"result.csv\", \"r\", newline=\"\")\n",
    "# a = csv.reader(f)\n",
    "# data = list(a)\n",
    "\n",
    "# for lines in data:\n",
    "#     for word in lines:\n",
    "#         print(word,\"\\t\", end=\" \")\n",
    "#     print()\n",
    "\n",
    "# print(\"Done\")"
   ]
  },
  {
   "cell_type": "code",
   "execution_count": null,
   "id": "f3926526-b904-4d21-b32c-3f22cd44d217",
   "metadata": {},
   "outputs": [],
   "source": []
  }
 ],
 "metadata": {
  "kernelspec": {
   "display_name": "Python 3 (ipykernel)",
   "language": "python",
   "name": "python3"
  },
  "language_info": {
   "codemirror_mode": {
    "name": "ipython",
    "version": 3
   },
   "file_extension": ".py",
   "mimetype": "text/x-python",
   "name": "python",
   "nbconvert_exporter": "python",
   "pygments_lexer": "ipython3",
   "version": "3.10.10"
  }
 },
 "nbformat": 4,
 "nbformat_minor": 5
}
