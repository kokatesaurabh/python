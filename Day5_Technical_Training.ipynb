{
 "cells": [
  {
   "cell_type": "code",
   "execution_count": 9,
   "id": "11576c02-ae1a-48c0-8ead-2667af053b80",
   "metadata": {},
   "outputs": [
    {
     "name": "stdout",
     "output_type": "stream",
     "text": [
      "8.0\n",
      "6.0\n",
      "-7.17157287525381\n"
     ]
    }
   ],
   "source": [
    "import math\n",
    "x1 = 1\n",
    "x2 = 2\n",
    "x3 = 3\n",
    "y1 = 1\n",
    "y2 = 4\n",
    "y3 = 6\n",
    "\n",
    "x = (math.sqrt(abs(x2-x1)))*2 + (y2-y1)*2\n",
    "y = (math.sqrt(abs(x3-x2)))*2 + (y3-y2)*2\n",
    "z = (math.sqrt(abs(x1-x3)))*2 + (y1-y3)*2\n",
    "\n",
    "print(x)\n",
    "print(y)\n",
    "print(z)"
   ]
  },
  {
   "cell_type": "markdown",
   "id": "2827ce86-6257-4ef0-8a4a-70a70fe4ae83",
   "metadata": {},
   "source": [
    "# Object Oriented Programming"
   ]
  },
  {
   "cell_type": "code",
   "execution_count": 16,
   "id": "77b6eeec-3015-47ee-9feb-56e6dd5e6228",
   "metadata": {},
   "outputs": [
    {
     "name": "stdout",
     "output_type": "stream",
     "text": [
      "150\n"
     ]
    },
    {
     "name": "stdin",
     "output_type": "stream",
     "text": [
      " manihs\n"
     ]
    },
    {
     "name": "stdout",
     "output_type": "stream",
     "text": [
      "manihs\n",
      "1\n"
     ]
    }
   ],
   "source": [
    "class Student:\n",
    "    roll_number = 1\n",
    "    num1 = 50 \n",
    "    num2 = 100\n",
    "\n",
    "    def add(self):\n",
    "        print(self.num1+self.num2)\n",
    "        self.name = input()\n",
    "        print(self.name)\n",
    "\n",
    "obg = Student()\n",
    "obg.add()\n",
    "print(obg.roll_number)"
   ]
  },
  {
   "cell_type": "code",
   "execution_count": 21,
   "id": "c4114b2b-f3bf-4c9a-b1b5-2b2535d20e2a",
   "metadata": {},
   "outputs": [
    {
     "name": "stdout",
     "output_type": "stream",
     "text": [
      "This is constructor\n",
      "<__main__.NewClass object at 0x000001EAD8B71330>\n",
      "This is function\n",
      "This is constructor\n"
     ]
    }
   ],
   "source": [
    "class NewClass:\n",
    "    def __init__(self):\n",
    "        print(\"This is constructor\")\n",
    "    def show(self):\n",
    "        print(\"This is function\")\n",
    "\n",
    "obj = NewClass()\n",
    "print(obj)\n",
    "obj.show()\n",
    "obj = NewClass()\n",
    "# obj2 = NewClass()\n",
    "# obj3 = NewClass()\n",
    "# obj4 = NewClass()"
   ]
  },
  {
   "cell_type": "code",
   "execution_count": 22,
   "id": "56047c6d-5b00-4806-939a-81c2f8b706ca",
   "metadata": {},
   "outputs": [
    {
     "name": "stdout",
     "output_type": "stream",
     "text": [
      "Name :  Manish\n",
      "Age :  21\n",
      "EmpID :  111\n"
     ]
    }
   ],
   "source": [
    "class Hod:\n",
    "    def __init__(self):\n",
    "        self.name = \"Manish\"\n",
    "        self.age = 21\n",
    "        self.empid = 111\n",
    "    def show(self):\n",
    "        print(\"Name : \", self.name)\n",
    "        print(\"Age : \", self.age)\n",
    "        print(\"EmpID : \", self.empid)\n",
    "\n",
    "obj = Hod()\n",
    "obj.show()"
   ]
  },
  {
   "cell_type": "code",
   "execution_count": 23,
   "id": "dc595075-153f-4d48-8d56-3417f632f65c",
   "metadata": {},
   "outputs": [
    {
     "name": "stdout",
     "output_type": "stream",
     "text": [
      "Name :  Manish\n",
      "Age :  21\n",
      "EmpID :  111\n"
     ]
    }
   ],
   "source": [
    "class Hod:\n",
    "    def __init__(self, name, age, empid):\n",
    "        self.name = name\n",
    "        self.age = age\n",
    "        self.empid = empid\n",
    "    def show(self):\n",
    "        print(\"Name : \", self.name)\n",
    "        print(\"Age : \", self.age)\n",
    "        print(\"EmpID : \", self.empid)\n",
    "\n",
    "obj = Hod('Manish', 21, 111)\n",
    "obj.show()"
   ]
  },
  {
   "cell_type": "code",
   "execution_count": 34,
   "id": "880b0b3c-5f02-4e93-ae3d-61366dc5a072",
   "metadata": {},
   "outputs": [
    {
     "name": "stdout",
     "output_type": "stream",
     "text": [
      "10\n",
      "10\n",
      "10\n",
      "20\n"
     ]
    }
   ],
   "source": [
    "class New:\n",
    "    def __init__(self):\n",
    "        self.a = 10\n",
    "    def show(self):\n",
    "        print(self.a)\n",
    "        \n",
    "obj1 = New()\n",
    "obj1.show()\n",
    "\n",
    "obj2 = New()\n",
    "obj2.show()\n",
    "\n",
    "obj3 = New()\n",
    "obj3.show()\n",
    "\n",
    "obj1.a = 20\n",
    "obj1.show()"
   ]
  },
  {
   "cell_type": "code",
   "execution_count": 39,
   "id": "3322d383-b382-4123-937b-4b78951962f2",
   "metadata": {},
   "outputs": [
    {
     "name": "stdout",
     "output_type": "stream",
     "text": [
      "{'s_name': 'Manish', 's_rollno': 101, 's_mb': 12345, 's_branch': 'IT'}\n",
      "12345\n"
     ]
    }
   ],
   "source": [
    "# we can create instance variable inside the constructor and method and class and also outside the class\n",
    "\n",
    "\n",
    "class Student:\n",
    "    def __init__(self):\n",
    "        self.s_name = \"Manish\"\n",
    "        self.s_rollno = 101\n",
    "\n",
    "    def show(self):\n",
    "        self.s_mb = 12345\n",
    "\n",
    "obj = Student()\n",
    "obj.show()\n",
    "obj.s_branch = \"IT\"\n",
    "print(obj.__dict__)\n",
    "print(obj.s_mb)"
   ]
  },
  {
   "cell_type": "code",
   "execution_count": 2,
   "id": "8f48ce11-2cbe-4287-bc08-67219d4b71d9",
   "metadata": {},
   "outputs": [
    {
     "name": "stdout",
     "output_type": "stream",
     "text": [
      "MGM ... Manish\n",
      "MGM ... Manish\n",
      "MGM ... Manish\n"
     ]
    },
    {
     "ename": "AttributeError",
     "evalue": "'College' object has no attribute 'collegeName'",
     "output_type": "error",
     "traceback": [
      "\u001b[1;31m---------------------------------------------------------------------------\u001b[0m",
      "\u001b[1;31mAttributeError\u001b[0m                            Traceback (most recent call last)",
      "Cell \u001b[1;32mIn[2], line 15\u001b[0m\n\u001b[0;32m     13\u001b[0m \u001b[38;5;28;01mdel\u001b[39;00m College\u001b[38;5;241m.\u001b[39mcollegeName   \u001b[38;5;66;03m# deleting the static variable using class\u001b[39;00m\n\u001b[0;32m     14\u001b[0m principle\u001b[38;5;241m.\u001b[39mstudentName \u001b[38;5;241m=\u001b[39m \u001b[38;5;124m\"\u001b[39m\u001b[38;5;124mManish Budar\u001b[39m\u001b[38;5;124m\"\u001b[39m\n\u001b[1;32m---> 15\u001b[0m \u001b[38;5;28mprint\u001b[39m(\u001b[43mprinciple\u001b[49m\u001b[38;5;241;43m.\u001b[39;49m\u001b[43mcollegeName\u001b[49m, \u001b[38;5;124m\"\u001b[39m\u001b[38;5;124m...\u001b[39m\u001b[38;5;124m\"\u001b[39m, principle\u001b[38;5;241m.\u001b[39mstudentName)   \n\u001b[0;32m     16\u001b[0m \u001b[38;5;28mprint\u001b[39m(techear\u001b[38;5;241m.\u001b[39mcollegeName, \u001b[38;5;124m\"\u001b[39m\u001b[38;5;124m...\u001b[39m\u001b[38;5;124m\"\u001b[39m, techear\u001b[38;5;241m.\u001b[39mstudentName)\n\u001b[0;32m     17\u001b[0m \u001b[38;5;28mprint\u001b[39m(accountact\u001b[38;5;241m.\u001b[39mcollegeName, \u001b[38;5;124m\"\u001b[39m\u001b[38;5;124m...\u001b[39m\u001b[38;5;124m\"\u001b[39m, accountact\u001b[38;5;241m.\u001b[39mstudentName)\n",
      "\u001b[1;31mAttributeError\u001b[0m: 'College' object has no attribute 'collegeName'"
     ]
    }
   ],
   "source": [
    "class College:\n",
    "    collegeName = \"MGM\"  # static variable\n",
    "    def __init__(self):\n",
    "        self.studentName = \"Manish\" # instance variable\n",
    "\n",
    "principle = College()\n",
    "techear = College()\n",
    "accountact = College()\n",
    "print(principle.collegeName, \"...\", principle.studentName)\n",
    "print(techear.collegeName, \"...\", techear.studentName)\n",
    "print(accountact.collegeName, \"...\", accountact.studentName)\n",
    "\n",
    "del College.collegeName   # deleting the static variable using class\n",
    "principle.studentName = \"Manish Budar\"\n",
    "print(principle.collegeName, \"...\", principle.studentName)   \n",
    "print(techear.collegeName, \"...\", techear.studentName)\n",
    "print(accountact.collegeName, \"...\", accountact.studentName)"
   ]
  },
  {
   "cell_type": "markdown",
   "id": "4c35974c-4472-4689-9824-d1cddba2d058",
   "metadata": {},
   "source": [
    "# <h3> where we can declare static variable? \n",
    " inside a class but outside of method\n",
    " \n",
    " in a constructor by using class name\n",
    " \n",
    " in a instance method by using class name\n",
    " \n",
    " in a class method using class name or cls variable\n",
    " \n",
    " static method by using class name"
   ]
  },
  {
   "cell_type": "markdown",
   "id": "7d06ec53-c79f-42e2-9bfd-d8994b6cc93d",
   "metadata": {},
   "source": [
    "# <h4> How do we access static variable?\n",
    "inside instance method suing self or class name\n",
    "\n",
    "in a constructor using self or class name\n",
    "\n",
    "in a class method using cls variable or class name\n",
    "\n",
    "in a static method using class name\n",
    "\n",
    "outside of the class using object or class name"
   ]
  },
  {
   "cell_type": "markdown",
   "id": "11105293-21a0-47cb-ac9e-6883d0fb51ea",
   "metadata": {},
   "source": [
    "# <h4> how do we delete the static variable?\n",
    "del classsName.StaticVariableNamw\n",
    "\n",
    "inside class method we can use cls variable : del cls:StaticVariableNamz"
   ]
  },
  {
   "cell_type": "markdown",
   "id": "52f054c4-210a-42f8-97e6-27ed934d3cc8",
   "metadata": {},
   "source": [
    "# "
   ]
  },
  {
   "cell_type": "code",
   "execution_count": 3,
   "id": "1797ea52-ed9d-4618-bba9-c9f109e1e3d6",
   "metadata": {},
   "outputs": [
    {
     "name": "stdout",
     "output_type": "stream",
     "text": [
      "Panvel\n"
     ]
    }
   ],
   "source": [
    "class College:\n",
    "    collegeName = \"MGM\"\n",
    "    def __init__(self):\n",
    "        self.studentName = \"Manish\" # instance variable\n",
    "        College.location = \"Panvel\"\n",
    "\n",
    "principle = College()\n",
    "techear = College()\n",
    "accountact = College()\n",
    "\n",
    "del College.collegeName  \n",
    "principle.studentName = \"Manish Budar\"\n",
    "# print(principle.collegeName, \"...\", principle.studentName)\n",
    "\n",
    "print(principle.location)"
   ]
  },
  {
   "cell_type": "code",
   "execution_count": 4,
   "id": "56cd0b71-2ffe-445f-b004-6638733f06ef",
   "metadata": {},
   "outputs": [
    {
     "name": "stdout",
     "output_type": "stream",
     "text": [
      "Manish Budar\n",
      "Mobile No:  12345 Roll No:  4\n"
     ]
    }
   ],
   "source": [
    "# Declaring static method\n",
    "\n",
    "class Student:\n",
    "    @staticmethod\n",
    "    def student_detail(firstname, lastname):\n",
    "        print(firstname, lastname)\n",
    "\n",
    "    @staticmethod\n",
    "    def contact_detail(mobileno, rollno):\n",
    "        print(\"Mobile No: \", mobileno, \"Roll No: \", rollno)\n",
    "\n",
    "Student.student_detail(\"Manish\", \"Budar\")\n",
    "Student.contact_detail(12345, 4)"
   ]
  },
  {
   "cell_type": "markdown",
   "id": "d2228985-73fc-433f-a304-b6f744f29003",
   "metadata": {},
   "source": [
    "# Inheritance\n",
    "Extending the property from one class to another class\n",
    "\n",
    "Base class :  A class which inherits its propety\n",
    "\n",
    "Derived class : A class in which properties are inherited \n",
    "\n",
    "Types  :  \n",
    "1. Single Inheritance\n",
    "2. Multilevel Inheritance\n",
    "3. Multiple Inheritance\n",
    "4. Hybrid Inheritance\n",
    "5. Hierarchial Inheritance"
   ]
  },
  {
   "cell_type": "markdown",
   "id": "84409e4b-79ec-45af-a73e-f34a5e205383",
   "metadata": {},
   "source": [
    "# <h4> Single Inheritance</h4>"
   ]
  },
  {
   "cell_type": "code",
   "execution_count": 5,
   "id": "936d083c-9d73-4252-ac9a-a45959aff03a",
   "metadata": {},
   "outputs": [
    {
     "name": "stdout",
     "output_type": "stream",
     "text": [
      "MGM College\n",
      "Name: Manish\n",
      "Branch: IT\n"
     ]
    }
   ],
   "source": [
    "\n",
    "class College:\n",
    "    def college_name(self):\n",
    "        print(\"MGM College\")\n",
    "\n",
    "class Student(College):\n",
    "    def student_info(self):\n",
    "        print(\"Name: Manish\")\n",
    "        print(\"Branch: IT\")\n",
    "\n",
    "obj = Student()\n",
    "obj.college_name()\n",
    "obj.student_info()"
   ]
  },
  {
   "cell_type": "markdown",
   "id": "2408242f-862c-4d34-b4de-a69383e8e262",
   "metadata": {},
   "source": [
    "# <h4> Multilevel Inheritance</h4>"
   ]
  },
  {
   "cell_type": "code",
   "execution_count": 6,
   "id": "856d7827-098e-44b0-81a8-522efb9e797f",
   "metadata": {},
   "outputs": [
    {
     "name": "stdout",
     "output_type": "stream",
     "text": [
      "MGM College\n",
      "Name: Manish\n",
      "Branch: IT\n",
      "Sub 1 :  Web x\n",
      "Sub 2 :  DMBI\n",
      "Sub 3 : ADMT\n"
     ]
    }
   ],
   "source": [
    "class College:\n",
    "    def college_name(self):\n",
    "        print(\"MGM College\")\n",
    "\n",
    "class Student(College):\n",
    "    def student_info(self):\n",
    "        print(\"Name: Manish\")\n",
    "        print(\"Branch: IT\")\n",
    "\n",
    "class Exam(Student):\n",
    "    def subjects(self):\n",
    "        print(\"Sub 1 :  Web x\")\n",
    "        print(\"Sub 2 :  DMBI\")\n",
    "        print(\"Sub 3 : ADMT\")\n",
    "\n",
    "obj = Exam()\n",
    "obj.college_name()\n",
    "obj.student_info()\n",
    "obj.subjects()"
   ]
  },
  {
   "cell_type": "markdown",
   "id": "082f7dcc-1ab7-4ada-bf5a-4c20dfd35e67",
   "metadata": {},
   "source": [
    "# <h4> Multilevel Inheritance"
   ]
  },
  {
   "cell_type": "code",
   "execution_count": 7,
   "id": "0173ac5c-df04-4b43-9008-93e9920f9d4e",
   "metadata": {},
   "outputs": [
    {
     "name": "stdout",
     "output_type": "stream",
     "text": [
      "Fail\n"
     ]
    }
   ],
   "source": [
    "class SubMarks:\n",
    "    web = 90\n",
    "    admt = 90\n",
    "    dmbi = 30\n",
    "\n",
    "class PracticalMarks:\n",
    "    webpractical = 25\n",
    "\n",
    "class Result(SubMarks, PracticalMarks):\n",
    "    def total(self):\n",
    "        if self.web >= 40 and self.admt >= 40 and self.dmbi >= 40 and self.webpractical >=20:\n",
    "            print(\"Pass\")\n",
    "        else:\n",
    "            print(\"Fail\")\n",
    "\n",
    "obj = Result()\n",
    "obj.total()"
   ]
  },
  {
   "cell_type": "code",
   "execution_count": 8,
   "id": "34ec9e15-5cc7-4b74-91ca-7d7b5f819def",
   "metadata": {},
   "outputs": [
    {
     "name": "stdout",
     "output_type": "stream",
     "text": [
      "Class C\n",
      "Class A\n",
      "Class A\n"
     ]
    }
   ],
   "source": [
    "class A:\n",
    "    def show(self):\n",
    "        print(\"Class A\")\n",
    "\n",
    "class B:\n",
    "    def show(self):\n",
    "        print(\"Class B\")\n",
    "\n",
    "class C(A, B):\n",
    "    print(\"Class C\")\n",
    "\n",
    "obj = C()\n",
    "obj.show()\n",
    "obj.show()\n",
    "    "
   ]
  },
  {
   "cell_type": "code",
   "execution_count": 12,
   "id": "eca0bed9-5fa6-452b-b663-4daab7cd1523",
   "metadata": {},
   "outputs": [
    {
     "name": "stdout",
     "output_type": "stream",
     "text": [
      "3\n"
     ]
    }
   ],
   "source": [
    "a = [1, 2, 3]\n",
    "b = [3, 4, 5]\n",
    "c = [6, 7, 3]\n",
    "\n",
    "for i in a:\n",
    "    if i in b and c:\n",
    "        print(i)"
   ]
  },
  {
   "cell_type": "markdown",
   "id": "7f9b2c06-fec9-4f14-86b4-8d1a8ef60688",
   "metadata": {},
   "source": [
    "# Polymorphism"
   ]
  },
  {
   "cell_type": "markdown",
   "id": "9ab0e6c8-b325-4007-9be1-d6189bfa1a59",
   "metadata": {},
   "source": [
    "# <h2> Overloading\n",
    "# <h4> Python doesn't support method and constructor overloading"
   ]
  },
  {
   "cell_type": "code",
   "execution_count": 17,
   "id": "071bf123-340c-4efe-88e2-7d7c25e8f44c",
   "metadata": {},
   "outputs": [
    {
     "ename": "TypeError",
     "evalue": "A.add() missing 2 required positional arguments: 'b' and 'c'",
     "output_type": "error",
     "traceback": [
      "\u001b[1;31m---------------------------------------------------------------------------\u001b[0m",
      "\u001b[1;31mTypeError\u001b[0m                                 Traceback (most recent call last)",
      "Cell \u001b[1;32mIn[17], line 12\u001b[0m\n\u001b[0;32m      9\u001b[0m         \u001b[38;5;28mprint\u001b[39m(a \u001b[38;5;241m+\u001b[39m b \u001b[38;5;241m+\u001b[39m c)\n\u001b[0;32m     11\u001b[0m obj \u001b[38;5;241m=\u001b[39m A()\n\u001b[1;32m---> 12\u001b[0m \u001b[43mobj\u001b[49m\u001b[38;5;241;43m.\u001b[39;49m\u001b[43madd\u001b[49m\u001b[43m(\u001b[49m\u001b[38;5;241;43m10\u001b[39;49m\u001b[43m)\u001b[49m\n\u001b[0;32m     13\u001b[0m obj\u001b[38;5;241m.\u001b[39madd(\u001b[38;5;241m10\u001b[39m, \u001b[38;5;241m20\u001b[39m)\n\u001b[0;32m     14\u001b[0m obj\u001b[38;5;241m.\u001b[39madd(\u001b[38;5;241m10\u001b[39m, \u001b[38;5;241m20\u001b[39m, \u001b[38;5;241m30\u001b[39m)\n",
      "\u001b[1;31mTypeError\u001b[0m: A.add() missing 2 required positional arguments: 'b' and 'c'"
     ]
    }
   ],
   "source": [
    "# Method Overloading\n",
    "\n",
    "class A:\n",
    "    def add(self, a):\n",
    "        print(a)\n",
    "    def add(self, a, b):\n",
    "        print(a+b)\n",
    "    def add(self, a, b, c):\n",
    "        print(a + b + c)\n",
    "\n",
    "obj = A()\n",
    "obj.add(10)\n",
    "obj.add(10, 20)\n",
    "obj.add(10, 20, 30)"
   ]
  },
  {
   "cell_type": "code",
   "execution_count": 18,
   "id": "475819c1-8973-4d96-a02f-823ce8e5b630",
   "metadata": {},
   "outputs": [
    {
     "ename": "TypeError",
     "evalue": "A.__init__() missing 2 required positional arguments: 'a' and 'b'",
     "output_type": "error",
     "traceback": [
      "\u001b[1;31m---------------------------------------------------------------------------\u001b[0m",
      "\u001b[1;31mTypeError\u001b[0m                                 Traceback (most recent call last)",
      "Cell \u001b[1;32mIn[18], line 11\u001b[0m\n\u001b[0;32m      8\u001b[0m     \u001b[38;5;28;01mdef\u001b[39;00m\u001b[38;5;250m \u001b[39m\u001b[38;5;21m__init__\u001b[39m(\u001b[38;5;28mself\u001b[39m, a, b):\n\u001b[0;32m      9\u001b[0m         \u001b[38;5;28mprint\u001b[39m(\u001b[38;5;124m\"\u001b[39m\u001b[38;5;124mTwo\u001b[39m\u001b[38;5;124m\"\u001b[39m)\n\u001b[1;32m---> 11\u001b[0m obj \u001b[38;5;241m=\u001b[39m \u001b[43mA\u001b[49m\u001b[43m(\u001b[49m\u001b[43m)\u001b[49m\n\u001b[0;32m     12\u001b[0m obj \u001b[38;5;241m=\u001b[39m A(\u001b[38;5;241m1\u001b[39m)\n\u001b[0;32m     13\u001b[0m obj \u001b[38;5;241m=\u001b[39m A(\u001b[38;5;241m1\u001b[39m, \u001b[38;5;241m2\u001b[39m)\n",
      "\u001b[1;31mTypeError\u001b[0m: A.__init__() missing 2 required positional arguments: 'a' and 'b'"
     ]
    }
   ],
   "source": [
    "# Constructor Overloading\n",
    "\n",
    "class A:\n",
    "    def __init__(self):\n",
    "        print(\"No Argument\")\n",
    "    def __init__(self, a):\n",
    "        print(\"One \")\n",
    "    def __init__(self, a, b):\n",
    "        print(\"Two\")\n",
    "\n",
    "obj = A()\n",
    "obj = A(1)\n",
    "obj = A(1, 2)"
   ]
  },
  {
   "cell_type": "markdown",
   "id": "3f48ff7b-a5ae-4006-9562-5f2ba9ee117b",
   "metadata": {},
   "source": [
    "# <h2> Overrrinding"
   ]
  },
  {
   "cell_type": "code",
   "execution_count": 31,
   "id": "c6c64523-0ca3-4841-9a14-f8de7c1738f7",
   "metadata": {},
   "outputs": [
    {
     "name": "stdout",
     "output_type": "stream",
     "text": [
      "Rate of interest is 6.50%\n",
      "Rate of interest is 7.50%\n",
      "Rate of interest is 8%\n"
     ]
    }
   ],
   "source": [
    "class RBI:\n",
    "    def home_loan(self):\n",
    "        print(\"Rate of interest is 7.50%\")\n",
    "\n",
    "    def car_loan(self):\n",
    "        print(\"Rate of interest is 8%\")\n",
    "\n",
    "class SBI(RBI):\n",
    "    def home_loan(self):\n",
    "        print(\"Rate of interest is 6.50%\")\n",
    "        super().home_loan()   # Calling parent class method using super method\n",
    "\n",
    "obj = SBI()\n",
    "obj.home_loan()\n",
    "obj.car_loan()\n",
    "        "
   ]
  },
  {
   "cell_type": "code",
   "execution_count": 32,
   "id": "66de12ea-c2b1-4b6f-a452-64a292e300a1",
   "metadata": {},
   "outputs": [
    {
     "name": "stdout",
     "output_type": "stream",
     "text": [
      "Child Class\n",
      "Father Class\n"
     ]
    }
   ],
   "source": [
    "class Father:\n",
    "    def __init__(self):\n",
    "        print(\"Father Class\")\n",
    "\n",
    "class Child(Father):\n",
    "    def __init__(self):\n",
    "        print(\"Child Class\")\n",
    "        super().__init__()\n",
    "\n",
    "obj = Child()\n"
   ]
  },
  {
   "cell_type": "code",
   "execution_count": 37,
   "id": "97345ac3-e6cc-43e2-a4fa-414ee070685d",
   "metadata": {},
   "outputs": [
    {
     "ename": "ValueError",
     "evalue": "attempt to assign sequence of size 6 to extended slice of size 5",
     "output_type": "error",
     "traceback": [
      "\u001b[1;31m---------------------------------------------------------------------------\u001b[0m",
      "\u001b[1;31mValueError\u001b[0m                                Traceback (most recent call last)",
      "Cell \u001b[1;32mIn[37], line 3\u001b[0m\n\u001b[0;32m      1\u001b[0m a \u001b[38;5;241m=\u001b[39m [\u001b[38;5;241m1\u001b[39m, \u001b[38;5;241m2\u001b[39m, \u001b[38;5;241m3\u001b[39m, \u001b[38;5;241m4\u001b[39m, \u001b[38;5;241m5\u001b[39m, \u001b[38;5;241m6\u001b[39m, \u001b[38;5;241m7\u001b[39m, \u001b[38;5;241m8\u001b[39m, \u001b[38;5;241m9\u001b[39m]\n\u001b[1;32m----> 3\u001b[0m \u001b[43ma\u001b[49m\u001b[43m[\u001b[49m\u001b[43m:\u001b[49m\u001b[43m:\u001b[49m\u001b[38;5;241;43m2\u001b[39;49m\u001b[43m]\u001b[49m\u001b[38;5;241m=\u001b[39m\u001b[38;5;241m10\u001b[39m, \u001b[38;5;241m20\u001b[39m, \u001b[38;5;241m30\u001b[39m, \u001b[38;5;241m40\u001b[39m, \u001b[38;5;241m50\u001b[39m, \u001b[38;5;241m60\u001b[39m\n\u001b[0;32m      5\u001b[0m \u001b[38;5;28mprint\u001b[39m(a)\n",
      "\u001b[1;31mValueError\u001b[0m: attempt to assign sequence of size 6 to extended slice of size 5"
     ]
    }
   ],
   "source": [
    "a = [1, 2, 3, 4, 5, 6, 7, 8, 9]\n",
    "\n",
    "a[::2]=10, 20, 30, 40, 50, 60\n",
    "\n",
    "print(a)"
   ]
  },
  {
   "cell_type": "code",
   "execution_count": 38,
   "id": "4214feec-0bf7-446d-872c-f24ea48e1a41",
   "metadata": {},
   "outputs": [
    {
     "name": "stdout",
     "output_type": "stream",
     "text": [
      "[4, 3, 2]\n"
     ]
    }
   ],
   "source": [
    "a = [1, 2, 3, 4, 5]\n",
    "print(a[3:0:-1])"
   ]
  },
  {
   "cell_type": "code",
   "execution_count": 42,
   "id": "3a2cf945-48be-4aaf-b438-4cdb7a91373a",
   "metadata": {},
   "outputs": [
    {
     "name": "stdout",
     "output_type": "stream",
     "text": [
      "3 44\n"
     ]
    }
   ],
   "source": [
    "def func(value, values):\n",
    "    var = 1\n",
    "    values[0] = 44\n",
    "\n",
    "t = 3\n",
    "v = [1, 2, 3]\n",
    "func(t, v)\n",
    "print(t, v[0])"
   ]
  },
  {
   "cell_type": "code",
   "execution_count": 44,
   "id": "9b55fcea-f9d2-43ac-9acb-3eb6c6ab8e9a",
   "metadata": {},
   "outputs": [
    {
     "name": "stdout",
     "output_type": "stream",
     "text": [
      "4\n",
      "7\n",
      "11\n",
      "15\n"
     ]
    }
   ],
   "source": [
    "arr = [[1, 2, 3, 4],\n",
    "       [4, 5, 6, 7],\n",
    "       [8, 9, 10 , 11],\n",
    "       [12, 13 ,14 , 15]]\n",
    "\n",
    "for i in range(0, 4):\n",
    "    print(arr[i].pop())"
   ]
  },
  {
   "cell_type": "code",
   "execution_count": 46,
   "id": "494024c8-c3c1-44b6-8c36-d06ea6575357",
   "metadata": {},
   "outputs": [
    {
     "name": "stdout",
     "output_type": "stream",
     "text": [
      "[1]\n",
      "[1, 2]\n",
      "[1, 2, 3]\n"
     ]
    }
   ],
   "source": [
    "def f(i, value = []):\n",
    "    value.append(i)\n",
    "    print(value)\n",
    "\n",
    "f(1)\n",
    "f(2)\n",
    "f(3)"
   ]
  },
  {
   "cell_type": "code",
   "execution_count": 52,
   "id": "48601d1b-2f7a-46b9-a9e6-7cca9ec360a2",
   "metadata": {},
   "outputs": [
    {
     "name": "stdout",
     "output_type": "stream",
     "text": [
      "2 3 4 5 6 6 "
     ]
    }
   ],
   "source": [
    "arr = [1, 2, 3, 4, 5, 6]\n",
    "\n",
    "for i in range(1, 6):\n",
    "    arr[i-1] = arr[i]\n",
    "for i in range(0, 6):\n",
    "    print(arr[i], end=\" \")"
   ]
  },
  {
   "cell_type": "code",
   "execution_count": 53,
   "id": "9d5e4ff9-97ac-4718-9e62-6e972c5f5ceb",
   "metadata": {},
   "outputs": [
    {
     "name": "stdout",
     "output_type": "stream",
     "text": [
      "22\n"
     ]
    }
   ],
   "source": [
    "a = [\"Apple\", \"Berrry\", \"Cherry\", \"Papaya\"]\n",
    "b = a\n",
    "c = a[:]\n",
    "b[0] = \"Guava\"\n",
    "c[1] = \"Kiwi\"\n",
    "\n",
    "sum = 0\n",
    "for ls in (a, b, c):\n",
    "    if ls[0] == \"Guava\":\n",
    "        sum += 1\n",
    "    if ls[1] == \"Kiwi\":\n",
    "        sum += 20\n",
    "\n",
    "print(sum)"
   ]
  },
  {
   "cell_type": "code",
   "execution_count": null,
   "id": "b52200d5-b858-45f4-834f-1ee26dfbc247",
   "metadata": {},
   "outputs": [],
   "source": []
  }
 ],
 "metadata": {
  "kernelspec": {
   "display_name": "Python 3 (ipykernel)",
   "language": "python",
   "name": "python3"
  },
  "language_info": {
   "codemirror_mode": {
    "name": "ipython",
    "version": 3
   },
   "file_extension": ".py",
   "mimetype": "text/x-python",
   "name": "python",
   "nbconvert_exporter": "python",
   "pygments_lexer": "ipython3",
   "version": "3.10.10"
  }
 },
 "nbformat": 4,
 "nbformat_minor": 5
}
