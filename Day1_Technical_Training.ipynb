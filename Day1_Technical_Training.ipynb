{
 "cells": [
  {
   "cell_type": "code",
   "execution_count": 2,
   "id": "4ea48725-cf43-4aef-820b-bd28495ad40a",
   "metadata": {},
   "outputs": [
    {
     "name": "stdout",
     "output_type": "stream",
     "text": [
      "<class 'float'>\n"
     ]
    }
   ],
   "source": [
    "a = 5.6\n",
    "print(type(a))"
   ]
  },
  {
   "cell_type": "code",
   "execution_count": 7,
   "id": "017db0e6-7db2-4b78-8d1e-ea55a686949d",
   "metadata": {},
   "outputs": [
    {
     "data": {
      "text/plain": [
       "2"
      ]
     },
     "execution_count": 7,
     "metadata": {},
     "output_type": "execute_result"
    }
   ],
   "source": [
    "s = \"mgmg\"\n",
    "type(s) # this is a comment\n",
    "s.find(\"m\")\n",
    "s.find(\"m\",1)"
   ]
  },
  {
   "cell_type": "code",
   "execution_count": 10,
   "id": "d0e4bfee-6585-4e3f-a3bc-3126c7575b73",
   "metadata": {},
   "outputs": [
    {
     "name": "stdout",
     "output_type": "stream",
     "text": [
      "0\n"
     ]
    }
   ],
   "source": [
    "s=\"abcab\"\n",
    "print(s.find(\"a\"))"
   ]
  },
  {
   "cell_type": "code",
   "execution_count": 16,
   "id": "32a9fb64-d09b-4bfc-8ca6-15a9801263d1",
   "metadata": {},
   "outputs": [
    {
     "data": {
      "text/plain": [
       "'mgm is the college'"
      ]
     },
     "execution_count": 16,
     "metadata": {},
     "output_type": "execute_result"
    }
   ],
   "source": [
    "s = \"mgm is the college\"\n",
    "\n",
    "# s.split() #splits the sententece into words\n",
    "\n",
    "# s.capitalize()\n",
    "# s.upper()\n",
    "# s.casefold()"
   ]
  },
  {
   "cell_type": "code",
   "execution_count": 24,
   "id": "e7070636-c9e5-4da2-b3e9-4257b60f9793",
   "metadata": {},
   "outputs": [
    {
     "name": "stdout",
     "output_type": "stream",
     "text": [
      "False\n",
      "True\n",
      "True\n"
     ]
    }
   ],
   "source": [
    "password = \"1234@jkdhfj\"\n",
    "# password.isalpha()\n",
    "print(password.isalnum())\n",
    "print(password.endswith(\"hfj\"))\n",
    "print(password.startswith(\"123\"))"
   ]
  },
  {
   "cell_type": "code",
   "execution_count": 26,
   "id": "ebda9965-4395-4325-b323-30588c10e927",
   "metadata": {},
   "outputs": [
    {
     "name": "stdout",
     "output_type": "stream",
     "text": [
      "M\n",
      "a\n",
      "n\n",
      "i\n",
      "s\n",
      "h\n"
     ]
    }
   ],
   "source": [
    "text = \"Manish\"\n",
    "#scan every character\n",
    "for i in text:\n",
    "    print(i)"
   ]
  },
  {
   "cell_type": "code",
   "execution_count": 30,
   "id": "27b774f0-32af-4041-9e8f-8844a8f30f77",
   "metadata": {},
   "outputs": [
    {
     "name": "stdout",
     "output_type": "stream",
     "text": [
      "HiiHiiHiiHii\n"
     ]
    }
   ],
   "source": [
    "x=\"Hii\"\n",
    "print(x*4) #repeat x 4 times"
   ]
  },
  {
   "cell_type": "code",
   "execution_count": 31,
   "id": "eb19b49a-4527-4907-8abe-643c70e2159f",
   "metadata": {},
   "outputs": [],
   "source": [
    "# TypeError                                 Traceback (most recent call last)\n",
    "# Cell In[28], line 2\n",
    "#       1 x=\"Hii\"\n",
    "# ----> 2 print(x+4)\n",
    "\n",
    "# TypeError: can only concatenate str (not \"int\") to str"
   ]
  },
  {
   "cell_type": "code",
   "execution_count": 32,
   "id": "2c0ac8e6-693d-4b79-9597-817661fe981f",
   "metadata": {},
   "outputs": [
    {
     "name": "stdout",
     "output_type": "stream",
     "text": [
      "hiihello\n"
     ]
    }
   ],
   "source": [
    "a=\"hii\"\n",
    "b=\"hello\"\n",
    "print(a+b)  #concate the string"
   ]
  },
  {
   "cell_type": "code",
   "execution_count": 33,
   "id": "d5021e8d-86e2-4f3f-b23e-2eebf5a72be7",
   "metadata": {},
   "outputs": [
    {
     "data": {
      "text/plain": [
       "'honey'"
      ]
     },
     "execution_count": 33,
     "metadata": {},
     "output_type": "execute_result"
    }
   ],
   "source": [
    "#replace a chaacter with new char\n",
    "\n",
    "s=\"money\"\n",
    "\n",
    "s.replace(\"m\",\"h\")"
   ]
  },
  {
   "cell_type": "markdown",
   "id": "b8a65143-26f4-410b-b1f8-24cdb876a668",
   "metadata": {},
   "source": [
    "# Slicing"
   ]
  },
  {
   "cell_type": "code",
   "execution_count": 45,
   "id": "8e8552b9-8134-4d79-a790-0485885a722d",
   "metadata": {},
   "outputs": [
    {
     "name": "stdout",
     "output_type": "stream",
     "text": [
      "euain\n",
      "noitacude\n"
     ]
    }
   ],
   "source": [
    "a=\"education\"\n",
    "# print(a[0:5])\n",
    "# print(a[:4])\n",
    "# print(a[2:])\n",
    "# print(a[:])  \n",
    "print(a[::2]) # skiping value\n",
    "print(a[::-1]) # reverse string"
   ]
  },
  {
   "cell_type": "code",
   "execution_count": 46,
   "id": "35d9b69d-f876-4246-96f8-689038a31a0d",
   "metadata": {},
   "outputs": [
    {
     "name": "stdout",
     "output_type": "stream",
     "text": [
      "12345678910"
     ]
    }
   ],
   "source": [
    "#reverse a string using for loop\n",
    "\n",
    "for i in range(1,11):\n",
    "    print(i,end=\"\")"
   ]
  },
  {
   "cell_type": "code",
   "execution_count": 78,
   "id": "f5e50c25-08b5-4bbc-9d0c-8d780afc3ef3",
   "metadata": {},
   "outputs": [
    {
     "name": "stdout",
     "output_type": "stream",
     "text": [
      "10\n",
      "9\n",
      "8\n",
      "7\n",
      "6\n",
      "5\n",
      "4\n",
      "3\n",
      "2\n"
     ]
    }
   ],
   "source": [
    "for i in range(10,1,-1):\n",
    "    print(i)"
   ]
  },
  {
   "cell_type": "code",
   "execution_count": 79,
   "id": "34c1bd61-98a2-422b-b244-d2d87b9f73f3",
   "metadata": {},
   "outputs": [
    {
     "name": "stdout",
     "output_type": "stream",
     "text": [
      "o\n",
      "l\n",
      "l\n",
      "e\n",
      "h\n"
     ]
    }
   ],
   "source": [
    "#reverse a string\n",
    "a=\"hello\"\n",
    "for i in range(len(a)-1,-1,-1):\n",
    "    print(a[i])"
   ]
  },
  {
   "cell_type": "code",
   "execution_count": 85,
   "id": "65a504a4-1634-4011-a1b1-d0d0d27e9f05",
   "metadata": {},
   "outputs": [
    {
     "name": "stdout",
     "output_type": "stream",
     "text": [
      "False\n",
      "Not Palindrome\n"
     ]
    }
   ],
   "source": [
    "#palindrome\n",
    "text=\"madama\"\n",
    "reverse=text[::-1]\n",
    "print(text==rev)\n",
    "\n",
    "if text==text[::-1]:print(\"Palindrome\")\n",
    "else:print(\"Not Palindrome\")"
   ]
  },
  {
   "cell_type": "code",
   "execution_count": 103,
   "id": "60b257a8-a387-4edd-ba6a-aa10f0ff050b",
   "metadata": {},
   "outputs": [
    {
     "name": "stdout",
     "output_type": "stream",
     "text": [
      "eatingly\n"
     ]
    }
   ],
   "source": [
    "text=\"eating\"\n",
    "\n",
    "# if text[-3:]==\"ing\":\n",
    "if len(text)<3:\n",
    "    print(text)\n",
    "else:\n",
    "    if text.endswith(\"ing\")==True:\n",
    "        print(text+\"ly\")\n",
    "    else:\n",
    "        print(text+\"ing\")"
   ]
  },
  {
   "cell_type": "code",
   "execution_count": 110,
   "id": "df567fc0-cacb-46a7-8fad-4dd5b6c79056",
   "metadata": {},
   "outputs": [
    {
     "name": "stdout",
     "output_type": "stream",
     "text": [
      "w33r\n"
     ]
    }
   ],
   "source": [
    "#join first 2 le\n",
    "text=\"w3r\"\n",
    "\n",
    "if len(text)<2:\n",
    "    print(-1)\n",
    "else:\n",
    "    print(text[:2]+text[-2:])"
   ]
  },
  {
   "cell_type": "code",
   "execution_count": 2,
   "id": "c663339a-a189-4a19-8a25-1842ded16f94",
   "metadata": {},
   "outputs": [
    {
     "name": "stdout",
     "output_type": "stream",
     "text": [
      "300\n"
     ]
    }
   ],
   "source": [
    "# if D then add and if W then minus\n",
    "transactions = [\"D:300\",\"W:200\",\"D:300\",\"W:100\"]\n",
    "totalAmount = 0\n",
    "\n",
    "for i in transactions:\n",
    "    action, amount = i.split(\":\")\n",
    "    amount = int(amount)\n",
    "\n",
    "    if action == \"D\":\n",
    "        totalAmount += amount\n",
    "    elif action == \"W\":\n",
    "        totalAmount -= amount\n",
    "print(totalAmount)"
   ]
  },
  {
   "cell_type": "code",
   "execution_count": 124,
   "id": "96cb079c-955d-4a43-bf3e-be66e1bc2661",
   "metadata": {},
   "outputs": [
    {
     "name": "stdout",
     "output_type": "stream",
     "text": [
      "3\n"
     ]
    }
   ],
   "source": [
    "# count the no if special characters\n",
    "text=\"ahf@hjfu$hd%hsfua6\"\n",
    "count=0\n",
    "for i in text:\n",
    "    if i.isalnum()==False:\n",
    "        count=count+1\n",
    "print(count)"
   ]
  },
  {
   "cell_type": "code",
   "execution_count": null,
   "id": "cb8e0fbb-a9d0-4d11-9be0-6763be2f739e",
   "metadata": {},
   "outputs": [],
   "source": []
  }
 ],
 "metadata": {
  "kernelspec": {
   "display_name": "Python 3 (ipykernel)",
   "language": "python",
   "name": "python3"
  },
  "language_info": {
   "codemirror_mode": {
    "name": "ipython",
    "version": 3
   },
   "file_extension": ".py",
   "mimetype": "text/x-python",
   "name": "python",
   "nbconvert_exporter": "python",
   "pygments_lexer": "ipython3",
   "version": "3.10.10"
  }
 },
 "nbformat": 4,
 "nbformat_minor": 5
}
